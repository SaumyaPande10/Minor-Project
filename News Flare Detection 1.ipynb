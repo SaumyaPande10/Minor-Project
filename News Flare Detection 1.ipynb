{
 "cells": [
  {
   "cell_type": "markdown",
   "metadata": {},
   "source": [
    "# News Flare Detection System\n",
    "\n",
    "The project takes a dataset of newsarticles from various categories and trains different machine learing models on it. It then predicts the categories of other new articles that may be provided to it. The 4 categories of news articles are :  1- World, 2- Sports, 3-Business, 4-Sci/Tech \n",
    "\n",
    "The dataset has been taken from kaggle : https://www.kaggle.com/amananandrai/ag-news-classification-dataset\n",
    "\n"
   ]
  },
  {
   "cell_type": "code",
   "execution_count": 1,
   "metadata": {},
   "outputs": [],
   "source": [
    "# Importing the libraries\n",
    "import pandas as pd\n",
    "import numpy as np\n",
    "import pickle\n",
    "#Python pickle module is used for serializing and de-serializing python object structures. \n",
    "#The process to converts any kind of python objects (list, dict, etc.) into byte streams (0s and 1s) is called pickling\n",
    "#or serialization or flattening or marshalling. We can converts the byte stream (generated through pickling) back into\n",
    "#python objects by a process called as unpickling.\n",
    "#Why Pickle?: In real world sceanario, the use pickling and unpickling are widespread as they allow us to easily transfer data\n",
    "#from one server/system to another and then store it in a file or database.\n",
    "\n",
    "import seaborn as sns\n",
    "sns.set_style(\"whitegrid\")\n",
    "\n",
    "import altair as alt\n",
    "alt.renderers.enable('notebook')\n",
    "\n",
    "from sklearn.model_selection import train_test_split\n",
    "\n",
    "# Code for hiding seaborn warnings\n",
    "#import warnings\n",
    "#warnings.filterwarnings(\"ignore\")\n",
    "\n",
    "# used to create interactive visualizations. It is declarative and based on pandas dataframe\n",
    "import matplotlib.pyplot as plt\n",
    "%matplotlib inline\n"
   ]
  },
  {
   "cell_type": "code",
   "execution_count": 2,
   "metadata": {},
   "outputs": [],
   "source": [
    "# Getting the dataset\n",
    "test = pd.read_csv(\"test.csv\", header=0)"
   ]
  },
  {
   "cell_type": "code",
   "execution_count": 3,
   "metadata": {},
   "outputs": [
    {
     "data": {
      "text/html": [
       "<div>\n",
       "<style scoped>\n",
       "    .dataframe tbody tr th:only-of-type {\n",
       "        vertical-align: middle;\n",
       "    }\n",
       "\n",
       "    .dataframe tbody tr th {\n",
       "        vertical-align: top;\n",
       "    }\n",
       "\n",
       "    .dataframe thead th {\n",
       "        text-align: right;\n",
       "    }\n",
       "</style>\n",
       "<table border=\"1\" class=\"dataframe\">\n",
       "  <thead>\n",
       "    <tr style=\"text-align: right;\">\n",
       "      <th></th>\n",
       "      <th>Class Index</th>\n",
       "      <th>Title</th>\n",
       "      <th>Description</th>\n",
       "    </tr>\n",
       "  </thead>\n",
       "  <tbody>\n",
       "    <tr>\n",
       "      <th>0</th>\n",
       "      <td>3</td>\n",
       "      <td>Fears for T N pension after talks</td>\n",
       "      <td>Unions representing workers at Turner   Newall...</td>\n",
       "    </tr>\n",
       "    <tr>\n",
       "      <th>1</th>\n",
       "      <td>4</td>\n",
       "      <td>The Race is On: Second Private Team Sets Launc...</td>\n",
       "      <td>SPACE.com - TORONTO, Canada -- A second\\team o...</td>\n",
       "    </tr>\n",
       "    <tr>\n",
       "      <th>2</th>\n",
       "      <td>4</td>\n",
       "      <td>Ky. Company Wins Grant to Study Peptides (AP)</td>\n",
       "      <td>AP - A company founded by a chemistry research...</td>\n",
       "    </tr>\n",
       "    <tr>\n",
       "      <th>3</th>\n",
       "      <td>4</td>\n",
       "      <td>Prediction Unit Helps Forecast Wildfires (AP)</td>\n",
       "      <td>AP - It's barely dawn when Mike Fitzpatrick st...</td>\n",
       "    </tr>\n",
       "    <tr>\n",
       "      <th>4</th>\n",
       "      <td>4</td>\n",
       "      <td>Calif. Aims to Limit Farm-Related Smog (AP)</td>\n",
       "      <td>AP - Southern California's smog-fighting agenc...</td>\n",
       "    </tr>\n",
       "  </tbody>\n",
       "</table>\n",
       "</div>"
      ],
      "text/plain": [
       "   Class Index                                              Title  \\\n",
       "0            3                  Fears for T N pension after talks   \n",
       "1            4  The Race is On: Second Private Team Sets Launc...   \n",
       "2            4      Ky. Company Wins Grant to Study Peptides (AP)   \n",
       "3            4      Prediction Unit Helps Forecast Wildfires (AP)   \n",
       "4            4        Calif. Aims to Limit Farm-Related Smog (AP)   \n",
       "\n",
       "                                         Description  \n",
       "0  Unions representing workers at Turner   Newall...  \n",
       "1  SPACE.com - TORONTO, Canada -- A second\\team o...  \n",
       "2  AP - A company founded by a chemistry research...  \n",
       "3  AP - It's barely dawn when Mike Fitzpatrick st...  \n",
       "4  AP - Southern California's smog-fighting agenc...  "
      ]
     },
     "execution_count": 3,
     "metadata": {},
     "output_type": "execute_result"
    }
   ],
   "source": [
    "test.head(5)"
   ]
  },
  {
   "cell_type": "code",
   "execution_count": 4,
   "metadata": {},
   "outputs": [],
   "source": [
    "train = pd.read_csv(\"train.csv\", header=0)"
   ]
  },
  {
   "cell_type": "code",
   "execution_count": 5,
   "metadata": {},
   "outputs": [
    {
     "data": {
      "text/html": [
       "<div>\n",
       "<style scoped>\n",
       "    .dataframe tbody tr th:only-of-type {\n",
       "        vertical-align: middle;\n",
       "    }\n",
       "\n",
       "    .dataframe tbody tr th {\n",
       "        vertical-align: top;\n",
       "    }\n",
       "\n",
       "    .dataframe thead th {\n",
       "        text-align: right;\n",
       "    }\n",
       "</style>\n",
       "<table border=\"1\" class=\"dataframe\">\n",
       "  <thead>\n",
       "    <tr style=\"text-align: right;\">\n",
       "      <th></th>\n",
       "      <th>Class Index</th>\n",
       "      <th>Title</th>\n",
       "      <th>Description</th>\n",
       "    </tr>\n",
       "  </thead>\n",
       "  <tbody>\n",
       "    <tr>\n",
       "      <th>0</th>\n",
       "      <td>3</td>\n",
       "      <td>Wall St. Bears Claw Back Into the Black (Reuters)</td>\n",
       "      <td>Reuters - Short-sellers, Wall Street's dwindli...</td>\n",
       "    </tr>\n",
       "    <tr>\n",
       "      <th>1</th>\n",
       "      <td>3</td>\n",
       "      <td>Carlyle Looks Toward Commercial Aerospace (Reu...</td>\n",
       "      <td>Reuters - Private investment firm Carlyle Grou...</td>\n",
       "    </tr>\n",
       "    <tr>\n",
       "      <th>2</th>\n",
       "      <td>3</td>\n",
       "      <td>Oil and Economy Cloud Stocks' Outlook (Reuters)</td>\n",
       "      <td>Reuters - Soaring crude prices plus worries\\ab...</td>\n",
       "    </tr>\n",
       "    <tr>\n",
       "      <th>3</th>\n",
       "      <td>3</td>\n",
       "      <td>Iraq Halts Oil Exports from Main Southern Pipe...</td>\n",
       "      <td>Reuters - Authorities have halted oil export\\f...</td>\n",
       "    </tr>\n",
       "    <tr>\n",
       "      <th>4</th>\n",
       "      <td>3</td>\n",
       "      <td>Oil prices soar to all-time record, posing new...</td>\n",
       "      <td>AFP - Tearaway world oil prices, toppling reco...</td>\n",
       "    </tr>\n",
       "  </tbody>\n",
       "</table>\n",
       "</div>"
      ],
      "text/plain": [
       "   Class Index                                              Title  \\\n",
       "0            3  Wall St. Bears Claw Back Into the Black (Reuters)   \n",
       "1            3  Carlyle Looks Toward Commercial Aerospace (Reu...   \n",
       "2            3    Oil and Economy Cloud Stocks' Outlook (Reuters)   \n",
       "3            3  Iraq Halts Oil Exports from Main Southern Pipe...   \n",
       "4            3  Oil prices soar to all-time record, posing new...   \n",
       "\n",
       "                                         Description  \n",
       "0  Reuters - Short-sellers, Wall Street's dwindli...  \n",
       "1  Reuters - Private investment firm Carlyle Grou...  \n",
       "2  Reuters - Soaring crude prices plus worries\\ab...  \n",
       "3  Reuters - Authorities have halted oil export\\f...  \n",
       "4  AFP - Tearaway world oil prices, toppling reco...  "
      ]
     },
     "execution_count": 5,
     "metadata": {},
     "output_type": "execute_result"
    }
   ],
   "source": [
    "train.head(5)"
   ]
  },
  {
   "cell_type": "markdown",
   "metadata": {},
   "source": [
    "# Exploratory Data Analysis"
   ]
  },
  {
   "cell_type": "code",
   "execution_count": 6,
   "metadata": {},
   "outputs": [
    {
     "data": {
      "text/plain": [
       "Index(['Class Index', 'Title', 'Description'], dtype='object')"
      ]
     },
     "execution_count": 6,
     "metadata": {},
     "output_type": "execute_result"
    }
   ],
   "source": [
    "test.columns"
   ]
  },
  {
   "cell_type": "code",
   "execution_count": 7,
   "metadata": {},
   "outputs": [
    {
     "data": {
      "text/plain": [
       "Index(['Class Index', 'Title', 'Description'], dtype='object')"
      ]
     },
     "execution_count": 7,
     "metadata": {},
     "output_type": "execute_result"
    }
   ],
   "source": [
    "train.columns"
   ]
  },
  {
   "cell_type": "markdown",
   "metadata": {},
   "source": [
    "## Number of articles in each category\n",
    "The class ids are numbered 1-4 where \n",
    "1 represents World,\n",
    "2 represents Sports,\n",
    "3 represents Business and\n",
    "4 represents Sci/Tech."
   ]
  },
  {
   "cell_type": "code",
   "execution_count": 8,
   "metadata": {},
   "outputs": [
    {
     "data": {
      "text/plain": [
       "4    30000\n",
       "3    30000\n",
       "2    30000\n",
       "1    30000\n",
       "Name: Class Index, dtype: int64"
      ]
     },
     "execution_count": 8,
     "metadata": {},
     "output_type": "execute_result"
    }
   ],
   "source": [
    "train[\"Class Index\"].value_counts()"
   ]
  },
  {
   "cell_type": "code",
   "execution_count": 9,
   "metadata": {},
   "outputs": [
    {
     "data": {
      "text/plain": [
       "3    1900\n",
       "2    1900\n",
       "1    1900\n",
       "4    1900\n",
       "Name: Class Index, dtype: int64"
      ]
     },
     "execution_count": 9,
     "metadata": {},
     "output_type": "execute_result"
    }
   ],
   "source": [
    "test[\"Class Index\"].value_counts()"
   ]
  },
  {
   "cell_type": "markdown",
   "metadata": {},
   "source": [
    "### Graphical Representation of the number of articles in each category\n",
    "\n"
   ]
  },
  {
   "cell_type": "code",
   "execution_count": 10,
   "metadata": {},
   "outputs": [
    {
     "data": {
      "image/png": "[encoded data removed]",
      "text/plain": [
       "<Figure size 432x288 with 1 Axes>"
      ]
     },
     "metadata": {
      "needs_background": "light"
     },
     "output_type": "display_data"
    }
   ],
   "source": [
    "train[\"Class Index\"].value_counts().plot(kind=\"bar\", color=[\"salmon\", \"lightblue\", \"orange\", \"green\"]);"
   ]
  },
  {
   "cell_type": "code",
   "execution_count": 11,
   "metadata": {},
   "outputs": [
    {
     "data": {
      "image/png": "[encoded data removed]",
      "text/plain": [
       "<Figure size 432x288 with 1 Axes>"
      ]
     },
     "metadata": {
      "needs_background": "light"
     },
     "output_type": "display_data"
    }
   ],
   "source": [
    "test[\"Class Index\"].value_counts().plot(kind=\"bar\", color=[\"salmon\", \"lightblue\", \"orange\", \"green\"]);"
   ]
  },
  {
   "cell_type": "code",
   "execution_count": 12,
   "metadata": {},
   "outputs": [
    {
     "data": {
      "text/plain": [
       "Class Index    0\n",
       "Title          0\n",
       "Description    0\n",
       "dtype: int64"
      ]
     },
     "execution_count": 12,
     "metadata": {},
     "output_type": "execute_result"
    }
   ],
   "source": [
    "# Are there any missing values?\n",
    "train.isna().sum()"
   ]
  },
  {
   "cell_type": "code",
   "execution_count": 13,
   "metadata": {},
   "outputs": [
    {
     "data": {
      "text/plain": [
       "Class Index    0\n",
       "Title          0\n",
       "Description    0\n",
       "dtype: int64"
      ]
     },
     "execution_count": 13,
     "metadata": {},
     "output_type": "execute_result"
    }
   ],
   "source": [
    "test.isna().sum()"
   ]
  },
  {
   "cell_type": "markdown",
   "metadata": {},
   "source": [
    "## Here we make a new column named as News length"
   ]
  },
  {
   "cell_type": "code",
   "execution_count": 14,
   "metadata": {},
   "outputs": [],
   "source": [
    "# for the train data\n",
    "train['News_length'] = train['Description'].str.len()\n",
    "# for the test data\n",
    "test['News_length'] = test['Description'].str.len()"
   ]
  },
  {
   "cell_type": "code",
   "execution_count": 15,
   "metadata": {},
   "outputs": [
    {
     "data": {
      "text/html": [
       "<div>\n",
       "<style scoped>\n",
       "    .dataframe tbody tr th:only-of-type {\n",
       "        vertical-align: middle;\n",
       "    }\n",
       "\n",
       "    .dataframe tbody tr th {\n",
       "        vertical-align: top;\n",
       "    }\n",
       "\n",
       "    .dataframe thead th {\n",
       "        text-align: right;\n",
       "    }\n",
       "</style>\n",
       "<table border=\"1\" class=\"dataframe\">\n",
       "  <thead>\n",
       "    <tr style=\"text-align: right;\">\n",
       "      <th></th>\n",
       "      <th>Class Index</th>\n",
       "      <th>Title</th>\n",
       "      <th>Description</th>\n",
       "      <th>News_length</th>\n",
       "    </tr>\n",
       "  </thead>\n",
       "  <tbody>\n",
       "    <tr>\n",
       "      <th>0</th>\n",
       "      <td>3</td>\n",
       "      <td>Wall St. Bears Claw Back Into the Black (Reuters)</td>\n",
       "      <td>Reuters - Short-sellers, Wall Street's dwindli...</td>\n",
       "      <td>94</td>\n",
       "    </tr>\n",
       "    <tr>\n",
       "      <th>1</th>\n",
       "      <td>3</td>\n",
       "      <td>Carlyle Looks Toward Commercial Aerospace (Reu...</td>\n",
       "      <td>Reuters - Private investment firm Carlyle Grou...</td>\n",
       "      <td>214</td>\n",
       "    </tr>\n",
       "    <tr>\n",
       "      <th>2</th>\n",
       "      <td>3</td>\n",
       "      <td>Oil and Economy Cloud Stocks' Outlook (Reuters)</td>\n",
       "      <td>Reuters - Soaring crude prices plus worries\\ab...</td>\n",
       "      <td>184</td>\n",
       "    </tr>\n",
       "    <tr>\n",
       "      <th>3</th>\n",
       "      <td>3</td>\n",
       "      <td>Iraq Halts Oil Exports from Main Southern Pipe...</td>\n",
       "      <td>Reuters - Authorities have halted oil export\\f...</td>\n",
       "      <td>195</td>\n",
       "    </tr>\n",
       "    <tr>\n",
       "      <th>4</th>\n",
       "      <td>3</td>\n",
       "      <td>Oil prices soar to all-time record, posing new...</td>\n",
       "      <td>AFP - Tearaway world oil prices, toppling reco...</td>\n",
       "      <td>160</td>\n",
       "    </tr>\n",
       "  </tbody>\n",
       "</table>\n",
       "</div>"
      ],
      "text/plain": [
       "   Class Index                                              Title  \\\n",
       "0            3  Wall St. Bears Claw Back Into the Black (Reuters)   \n",
       "1            3  Carlyle Looks Toward Commercial Aerospace (Reu...   \n",
       "2            3    Oil and Economy Cloud Stocks' Outlook (Reuters)   \n",
       "3            3  Iraq Halts Oil Exports from Main Southern Pipe...   \n",
       "4            3  Oil prices soar to all-time record, posing new...   \n",
       "\n",
       "                                         Description  News_length  \n",
       "0  Reuters - Short-sellers, Wall Street's dwindli...           94  \n",
       "1  Reuters - Private investment firm Carlyle Grou...          214  \n",
       "2  Reuters - Soaring crude prices plus worries\\ab...          184  \n",
       "3  Reuters - Authorities have halted oil export\\f...          195  \n",
       "4  AFP - Tearaway world oil prices, toppling reco...          160  "
      ]
     },
     "execution_count": 15,
     "metadata": {},
     "output_type": "execute_result"
    }
   ],
   "source": [
    "train.head()"
   ]
  },
  {
   "cell_type": "code",
   "execution_count": 16,
   "metadata": {},
   "outputs": [
    {
     "data": {
      "text/html": [
       "<div>\n",
       "<style scoped>\n",
       "    .dataframe tbody tr th:only-of-type {\n",
       "        vertical-align: middle;\n",
       "    }\n",
       "\n",
       "    .dataframe tbody tr th {\n",
       "        vertical-align: top;\n",
       "    }\n",
       "\n",
       "    .dataframe thead th {\n",
       "        text-align: right;\n",
       "    }\n",
       "</style>\n",
       "<table border=\"1\" class=\"dataframe\">\n",
       "  <thead>\n",
       "    <tr style=\"text-align: right;\">\n",
       "      <th></th>\n",
       "      <th>Class Index</th>\n",
       "      <th>Title</th>\n",
       "      <th>Description</th>\n",
       "      <th>News_length</th>\n",
       "    </tr>\n",
       "  </thead>\n",
       "  <tbody>\n",
       "    <tr>\n",
       "      <th>0</th>\n",
       "      <td>3</td>\n",
       "      <td>Fears for T N pension after talks</td>\n",
       "      <td>Unions representing workers at Turner   Newall...</td>\n",
       "      <td>127</td>\n",
       "    </tr>\n",
       "    <tr>\n",
       "      <th>1</th>\n",
       "      <td>4</td>\n",
       "      <td>The Race is On: Second Private Team Sets Launc...</td>\n",
       "      <td>SPACE.com - TORONTO, Canada -- A second\\team o...</td>\n",
       "      <td>234</td>\n",
       "    </tr>\n",
       "    <tr>\n",
       "      <th>2</th>\n",
       "      <td>4</td>\n",
       "      <td>Ky. Company Wins Grant to Study Peptides (AP)</td>\n",
       "      <td>AP - A company founded by a chemistry research...</td>\n",
       "      <td>214</td>\n",
       "    </tr>\n",
       "    <tr>\n",
       "      <th>3</th>\n",
       "      <td>4</td>\n",
       "      <td>Prediction Unit Helps Forecast Wildfires (AP)</td>\n",
       "      <td>AP - It's barely dawn when Mike Fitzpatrick st...</td>\n",
       "      <td>272</td>\n",
       "    </tr>\n",
       "    <tr>\n",
       "      <th>4</th>\n",
       "      <td>4</td>\n",
       "      <td>Calif. Aims to Limit Farm-Related Smog (AP)</td>\n",
       "      <td>AP - Southern California's smog-fighting agenc...</td>\n",
       "      <td>179</td>\n",
       "    </tr>\n",
       "  </tbody>\n",
       "</table>\n",
       "</div>"
      ],
      "text/plain": [
       "   Class Index                                              Title  \\\n",
       "0            3                  Fears for T N pension after talks   \n",
       "1            4  The Race is On: Second Private Team Sets Launc...   \n",
       "2            4      Ky. Company Wins Grant to Study Peptides (AP)   \n",
       "3            4      Prediction Unit Helps Forecast Wildfires (AP)   \n",
       "4            4        Calif. Aims to Limit Farm-Related Smog (AP)   \n",
       "\n",
       "                                         Description  News_length  \n",
       "0  Unions representing workers at Turner   Newall...          127  \n",
       "1  SPACE.com - TORONTO, Canada -- A second\\team o...          234  \n",
       "2  AP - A company founded by a chemistry research...          214  \n",
       "3  AP - It's barely dawn when Mike Fitzpatrick st...          272  \n",
       "4  AP - Southern California's smog-fighting agenc...          179  "
      ]
     },
     "execution_count": 16,
     "metadata": {},
     "output_type": "execute_result"
    }
   ],
   "source": [
    "test.head()"
   ]
  },
  {
   "cell_type": "markdown",
   "metadata": {},
   "source": [
    "\n",
    "\n",
    "\n",
    "# Representation of the articles sizes"
   ]
  },
  {
   "cell_type": "code",
   "execution_count": 17,
   "metadata": {},
   "outputs": [
    {
     "data": {
      "image/png": "[encoded data removed]",
      "text/plain": [
       "<Figure size 921.6x432 with 1 Axes>"
      ]
     },
     "metadata": {
      "needs_background": "light"
     },
     "output_type": "display_data"
    }
   ],
   "source": [
    "plt.figure(figsize=(12.8,6))\n",
    "sns.distplot(train['News_length']).set_title('News length distribution');"
   ]
  },
  {
   "cell_type": "code",
   "execution_count": 18,
   "metadata": {},
   "outputs": [
    {
     "data": {
      "image/png": "[encoded data removed]",
      "text/plain": [
       "<Figure size 921.6x432 with 1 Axes>"
      ]
     },
     "metadata": {
      "needs_background": "light"
     },
     "output_type": "display_data"
    }
   ],
   "source": [
    "plt.figure(figsize=(12.8,6))\n",
    "sns.distplot(test['News_length']).set_title('News length distribution');"
   ]
  },
  {
   "cell_type": "code",
   "execution_count": 19,
   "metadata": {},
   "outputs": [
    {
     "data": {
      "text/plain": [
       "count    120000.000000\n",
       "mean        193.388517\n",
       "std          64.472066\n",
       "min           6.000000\n",
       "25%         155.000000\n",
       "50%         188.000000\n",
       "75%         219.000000\n",
       "max         985.000000\n",
       "Name: News_length, dtype: float64"
      ]
     },
     "execution_count": 19,
     "metadata": {},
     "output_type": "execute_result"
    }
   ],
   "source": [
    "train[\"News_length\"].describe()"
   ]
  },
  {
   "cell_type": "code",
   "execution_count": 20,
   "metadata": {},
   "outputs": [
    {
     "data": {
      "text/plain": [
       "count    7600.000000\n",
       "mean      192.408026\n",
       "std        63.192774\n",
       "min        37.000000\n",
       "25%       154.000000\n",
       "50%       187.000000\n",
       "75%       218.000000\n",
       "max       830.000000\n",
       "Name: News_length, dtype: float64"
      ]
     },
     "execution_count": 20,
     "metadata": {},
     "output_type": "execute_result"
    }
   ],
   "source": [
    "test[\"News_length\"].describe()"
   ]
  },
  {
   "cell_type": "markdown",
   "metadata": {},
   "source": [
    "# Feature Engineering"
   ]
  },
  {
   "cell_type": "code",
   "execution_count": 21,
   "metadata": {},
   "outputs": [],
   "source": [
    "import nltk\n",
    "from nltk.corpus import stopwords"
   ]
  },
  {
   "cell_type": "markdown",
   "metadata": {},
   "source": [
    "### Checking how does a sample text in our dataset looks like"
   ]
  },
  {
   "cell_type": "code",
   "execution_count": 22,
   "metadata": {},
   "outputs": [
    {
     "data": {
      "text/plain": [
       "'Reuters - Private investment firm Carlyle Group,\\\\which has a reputation for making well-timed and occasionally\\\\controversial plays in the defense industry, has quietly placed\\\\its bets on another part of the market.'"
      ]
     },
     "execution_count": 22,
     "metadata": {},
     "output_type": "execute_result"
    }
   ],
   "source": [
    "train.loc[1]['Description']"
   ]
  },
  {
   "cell_type": "code",
   "execution_count": 23,
   "metadata": {},
   "outputs": [
    {
     "data": {
      "text/plain": [
       "\"The bidding gets underway for Google's public offering, despite last-minute worries over an interview with its bosses in Playboy magazine.\""
      ]
     },
     "execution_count": 23,
     "metadata": {},
     "output_type": "execute_result"
    }
   ],
   "source": [
    "train.loc[20]['Description']"
   ]
  },
  {
   "cell_type": "code",
   "execution_count": 24,
   "metadata": {},
   "outputs": [
    {
     "data": {
      "text/plain": [
       "\"Target the abusers of legal weapons We can all share the outrage, expressed by columnist Steve Bailey (''Summer Sizzler, quot; Aug. 11), at the killings in the city's poor neighborhoods. But there's no need to share his ignorance. He argues for renewal of the so-called assault weapon ban, claiming that otherwise, ''UZIs and AK-47s could again be flooding the streets. quot; His ...\""
      ]
     },
     "execution_count": 24,
     "metadata": {},
     "output_type": "execute_result"
    }
   ],
   "source": [
    "train.loc[40]['Description']"
   ]
  },
  {
   "cell_type": "code",
   "execution_count": 25,
   "metadata": {},
   "outputs": [
    {
     "data": {
      "text/plain": [
       "'Reuters - Soaring crude prices plus worries\\\\about the economy and the outlook for earnings are expected to\\\\hang over the stock market next week during the depth of the\\\\summer doldrums.'"
      ]
     },
     "execution_count": 25,
     "metadata": {},
     "output_type": "execute_result"
    }
   ],
   "source": [
    "train.loc[2]['Description']"
   ]
  },
  {
   "cell_type": "code",
   "execution_count": 26,
   "metadata": {},
   "outputs": [
    {
     "data": {
      "text/plain": [
       "\"Reuters - Short-sellers, Wall Street's dwindling\\\\band of ultra-cynics, are seeing green again.\""
      ]
     },
     "execution_count": 26,
     "metadata": {},
     "output_type": "execute_result"
    }
   ],
   "source": [
    "train.loc[0]['Description']"
   ]
  },
  {
   "cell_type": "code",
   "execution_count": 27,
   "metadata": {},
   "outputs": [
    {
     "data": {
      "text/plain": [
       "' NEW YORK (Reuters) - Soaring crude prices plus worries  about the economy and the outlook for earnings are expected to  hang over the stock market next week during the depth of the  summer doldrums.'"
      ]
     },
     "execution_count": 27,
     "metadata": {},
     "output_type": "execute_result"
    }
   ],
   "source": [
    "train.loc[10]['Description']"
   ]
  },
  {
   "cell_type": "code",
   "execution_count": 28,
   "metadata": {},
   "outputs": [
    {
     "data": {
      "text/plain": [
       "'Forbes.com - After earning a PH.D. in Sociology, Danny Bazil Riley started to work as the general manager at a commercial real estate firm at an annual base salary of  #36;70,000. Soon after, a financial planner stopped by his desk to drop off brochures about insurance benefits available through his employer. But, at 32, \"buying insurance was the furthest thing from my mind,\" says Riley.'"
      ]
     },
     "execution_count": 28,
     "metadata": {},
     "output_type": "execute_result"
    }
   ],
   "source": [
    "train.loc[8]['Description']"
   ]
  },
  {
   "cell_type": "markdown",
   "metadata": {},
   "source": [
    "# Text cleaning\n",
    "Removing unnecessary symbols, spaces and punctuations"
   ]
  },
  {
   "cell_type": "code",
   "execution_count": 29,
   "metadata": {},
   "outputs": [],
   "source": [
    "# From the training dataset\n",
    "train['Content_Parsed_1'] = train['Description'].str.replace(\"\\\\\",\" \")\n",
    "train['Content_Parsed_1'] = train['Content_Parsed_1'].str.replace(\"-\",\"\")\n",
    "train['Content_Parsed_1'] = train['Content_Parsed_1'].str.replace(\"&\",\" \")\n",
    "train['Content_Parsed_1'] = train['Content_Parsed_1'].str.replace(\"#\",\"\")\n",
    "train['Content_Parsed_1'] = train['Content_Parsed_1'].str.replace(\";\",\"\")\n",
    "train['Content_Parsed_1'] = train['Content_Parsed_1'].str.replace(\"?\",\"\")\n",
    "train['Content_Parsed_1'] = train['Content_Parsed_1'].str.replace(\"!\",\"\")\n",
    "train['Content_Parsed_1'] = train['Content_Parsed_1'].str.replace(\",\",\"\")\n",
    "train['Content_Parsed_1'] = train['Content_Parsed_1'].str.replace(\"-\",\"\")\n",
    "train['Content_Parsed_1'] = train['Content_Parsed_1'].str.replace('\"','')\n",
    "train['Content_Parsed_1'] = train['Content_Parsed_1'].str.replace('.','')\n",
    "train['Content_Parsed_1'] = train['Content_Parsed_1'].str.replace(':','')\n",
    "train['Content_Parsed_1'] = train['Content_Parsed_1'].str.replace('(','')\n",
    "train['Content_Parsed_1'] = train['Content_Parsed_1'].str.replace(')','')"
   ]
  },
  {
   "cell_type": "code",
   "execution_count": 30,
   "metadata": {},
   "outputs": [
    {
     "data": {
      "text/plain": [
       "'Reuters  Private investment firm Carlyle Group which has a reputation for making welltimed and occasionally controversial plays in the defense industry has quietly placed its bets on another part of the market'"
      ]
     },
     "execution_count": 30,
     "metadata": {},
     "output_type": "execute_result"
    }
   ],
   "source": [
    "train.loc[1][\"Content_Parsed_1\"]"
   ]
  },
  {
   "cell_type": "code",
   "execution_count": 31,
   "metadata": {},
   "outputs": [],
   "source": [
    "# From the test dataset\n",
    "test['Content_Parsed_1'] = test['Description'].str.replace(\"\\\\\",\" \")\n",
    "test['Content_Parsed_1'] = test['Content_Parsed_1'].str.replace(\"-\",\"\")\n",
    "test['Content_Parsed_1'] = test['Content_Parsed_1'].str.replace(\"&\",\" \")\n",
    "test['Content_Parsed_1'] = test['Content_Parsed_1'].str.replace(\"#\",\"\")\n",
    "test['Content_Parsed_1'] = test['Content_Parsed_1'].str.replace(\";\",\"\")\n",
    "test['Content_Parsed_1'] = test['Content_Parsed_1'].str.replace(\"?\",\"\")\n",
    "test['Content_Parsed_1'] = test['Content_Parsed_1'].str.replace(\"!\",\"\")\n",
    "test['Content_Parsed_1'] = test['Content_Parsed_1'].str.replace(\",\",\"\")\n",
    "test['Content_Parsed_1'] = test['Content_Parsed_1'].str.replace(\"-\",\"\")\n",
    "test['Content_Parsed_1'] = test['Content_Parsed_1'].str.replace('\"','')\n",
    "test['Content_Parsed_1'] = test['Content_Parsed_1'].str.replace('.','')\n",
    "test['Content_Parsed_1'] = test['Content_Parsed_1'].str.replace(':','')\n",
    "test['Content_Parsed_1'] = test['Content_Parsed_1'].str.replace('(','')\n",
    "test['Content_Parsed_1'] = test['Content_Parsed_1'].str.replace(')','')"
   ]
  },
  {
   "cell_type": "code",
   "execution_count": 32,
   "metadata": {},
   "outputs": [
    {
     "data": {
      "text/plain": [
       "\"The British Department for Education and Skills DfES recently launched a Music Manifesto campaign with the ostensible intention of educating the next generation of British musicians Unfortunately they also teamed up with the music industry EMI and various artists to make this popular EMI has apparently negotiated their end well so that children in our schools will now be indoctrinated about the illegality of downloading musicThe ignorance and audacity of this got to me a little so I wrote an open letter to the DfES about it Unfortunately it's pedantic as I suppose you have to be when writing to goverment representatives But I hope you find it useful and perhaps feel inspired to do something similar if or when the same thing has happened in your area\""
      ]
     },
     "execution_count": 32,
     "metadata": {},
     "output_type": "execute_result"
    }
   ],
   "source": [
    "test.loc[5][\"Content_Parsed_1\"]"
   ]
  },
  {
   "cell_type": "markdown",
   "metadata": {},
   "source": [
    "# Converting the entire text to lowercase"
   ]
  },
  {
   "cell_type": "code",
   "execution_count": 33,
   "metadata": {},
   "outputs": [],
   "source": [
    "# for the training dataset\n",
    "train['Content_Parsed_2'] = train['Content_Parsed_1'].str.lower()"
   ]
  },
  {
   "cell_type": "code",
   "execution_count": 34,
   "metadata": {},
   "outputs": [],
   "source": [
    "# for the test dataset\n",
    "test['Content_Parsed_2'] = test['Content_Parsed_1'].str.lower()"
   ]
  },
  {
   "cell_type": "code",
   "execution_count": 35,
   "metadata": {
    "scrolled": true
   },
   "outputs": [
    {
     "data": {
      "text/plain": [
       "'reuters  private investment firm carlyle group which has a reputation for making welltimed and occasionally controversial plays in the defense industry has quietly placed its bets on another part of the market'"
      ]
     },
     "execution_count": 35,
     "metadata": {},
     "output_type": "execute_result"
    }
   ],
   "source": [
    "train.loc[1][\"Content_Parsed_2\"]"
   ]
  },
  {
   "cell_type": "code",
   "execution_count": 36,
   "metadata": {},
   "outputs": [
    {
     "data": {
      "text/plain": [
       "'spacecom  toronto canada  a second team of rocketeers competing for the  3610 million ansari x prize a contest for privately funded suborbital space flight has officially announced the first launch date for its manned rocket'"
      ]
     },
     "execution_count": 36,
     "metadata": {},
     "output_type": "execute_result"
    }
   ],
   "source": [
    "test.loc[1][\"Content_Parsed_2\"]"
   ]
  },
  {
   "cell_type": "markdown",
   "metadata": {},
   "source": [
    "# Removing Possessive Pronouns"
   ]
  },
  {
   "cell_type": "code",
   "execution_count": 37,
   "metadata": {},
   "outputs": [],
   "source": [
    "train['Content_Parsed_3'] = train['Content_Parsed_2'].str.replace(\"'s\", \"\")\n",
    "test['Content_Parsed_3'] = test['Content_Parsed_2'].str.replace(\"'s\", \"\")"
   ]
  },
  {
   "cell_type": "code",
   "execution_count": 38,
   "metadata": {},
   "outputs": [
    {
     "data": {
      "text/plain": [
       "'the company running the japanese nuclear plant hit by a fatal accident is to close its reactors for safety checks'"
      ]
     },
     "execution_count": 38,
     "metadata": {},
     "output_type": "execute_result"
    }
   ],
   "source": [
    "train.loc[30][\"Content_Parsed_3\"]"
   ]
  },
  {
   "cell_type": "code",
   "execution_count": 39,
   "metadata": {},
   "outputs": [
    {
     "data": {
      "text/plain": [
       "'in  quothelping themselves quot ricky bryant chas gessner michael jennings and david patten did nothing friday night to make bill belichick decision on what to do with his receivers any easier'"
      ]
     },
     "execution_count": 39,
     "metadata": {},
     "output_type": "execute_result"
    }
   ],
   "source": [
    "test.loc[30][\"Content_Parsed_3\"]"
   ]
  },
  {
   "cell_type": "markdown",
   "metadata": {},
   "source": [
    "# Removing digits from our data as they donot help in analysis"
   ]
  },
  {
   "cell_type": "code",
   "execution_count": 40,
   "metadata": {},
   "outputs": [],
   "source": [
    "train[\"Content_Parsed_3\"] = train['Content_Parsed_3'].str.replace('\\d+', '')"
   ]
  },
  {
   "cell_type": "code",
   "execution_count": 41,
   "metadata": {},
   "outputs": [
    {
     "data": {
      "text/html": [
       "<div>\n",
       "<style scoped>\n",
       "    .dataframe tbody tr th:only-of-type {\n",
       "        vertical-align: middle;\n",
       "    }\n",
       "\n",
       "    .dataframe tbody tr th {\n",
       "        vertical-align: top;\n",
       "    }\n",
       "\n",
       "    .dataframe thead th {\n",
       "        text-align: right;\n",
       "    }\n",
       "</style>\n",
       "<table border=\"1\" class=\"dataframe\">\n",
       "  <thead>\n",
       "    <tr style=\"text-align: right;\">\n",
       "      <th></th>\n",
       "      <th>Class Index</th>\n",
       "      <th>Title</th>\n",
       "      <th>Description</th>\n",
       "      <th>News_length</th>\n",
       "      <th>Content_Parsed_1</th>\n",
       "      <th>Content_Parsed_2</th>\n",
       "      <th>Content_Parsed_3</th>\n",
       "    </tr>\n",
       "  </thead>\n",
       "  <tbody>\n",
       "    <tr>\n",
       "      <th>0</th>\n",
       "      <td>3</td>\n",
       "      <td>Wall St. Bears Claw Back Into the Black (Reuters)</td>\n",
       "      <td>Reuters - Short-sellers, Wall Street's dwindli...</td>\n",
       "      <td>94</td>\n",
       "      <td>Reuters  Shortsellers Wall Street's dwindling ...</td>\n",
       "      <td>reuters  shortsellers wall street's dwindling ...</td>\n",
       "      <td>reuters  shortsellers wall street dwindling ba...</td>\n",
       "    </tr>\n",
       "    <tr>\n",
       "      <th>1</th>\n",
       "      <td>3</td>\n",
       "      <td>Carlyle Looks Toward Commercial Aerospace (Reu...</td>\n",
       "      <td>Reuters - Private investment firm Carlyle Grou...</td>\n",
       "      <td>214</td>\n",
       "      <td>Reuters  Private investment firm Carlyle Group...</td>\n",
       "      <td>reuters  private investment firm carlyle group...</td>\n",
       "      <td>reuters  private investment firm carlyle group...</td>\n",
       "    </tr>\n",
       "    <tr>\n",
       "      <th>2</th>\n",
       "      <td>3</td>\n",
       "      <td>Oil and Economy Cloud Stocks' Outlook (Reuters)</td>\n",
       "      <td>Reuters - Soaring crude prices plus worries\\ab...</td>\n",
       "      <td>184</td>\n",
       "      <td>Reuters  Soaring crude prices plus worries abo...</td>\n",
       "      <td>reuters  soaring crude prices plus worries abo...</td>\n",
       "      <td>reuters  soaring crude prices plus worries abo...</td>\n",
       "    </tr>\n",
       "    <tr>\n",
       "      <th>3</th>\n",
       "      <td>3</td>\n",
       "      <td>Iraq Halts Oil Exports from Main Southern Pipe...</td>\n",
       "      <td>Reuters - Authorities have halted oil export\\f...</td>\n",
       "      <td>195</td>\n",
       "      <td>Reuters  Authorities have halted oil export fl...</td>\n",
       "      <td>reuters  authorities have halted oil export fl...</td>\n",
       "      <td>reuters  authorities have halted oil export fl...</td>\n",
       "    </tr>\n",
       "    <tr>\n",
       "      <th>4</th>\n",
       "      <td>3</td>\n",
       "      <td>Oil prices soar to all-time record, posing new...</td>\n",
       "      <td>AFP - Tearaway world oil prices, toppling reco...</td>\n",
       "      <td>160</td>\n",
       "      <td>AFP  Tearaway world oil prices toppling record...</td>\n",
       "      <td>afp  tearaway world oil prices toppling record...</td>\n",
       "      <td>afp  tearaway world oil prices toppling record...</td>\n",
       "    </tr>\n",
       "    <tr>\n",
       "      <th>...</th>\n",
       "      <td>...</td>\n",
       "      <td>...</td>\n",
       "      <td>...</td>\n",
       "      <td>...</td>\n",
       "      <td>...</td>\n",
       "      <td>...</td>\n",
       "      <td>...</td>\n",
       "    </tr>\n",
       "    <tr>\n",
       "      <th>119995</th>\n",
       "      <td>1</td>\n",
       "      <td>Pakistan's Musharraf Says Won't Quit as Army C...</td>\n",
       "      <td>KARACHI (Reuters) - Pakistani President Perve...</td>\n",
       "      <td>170</td>\n",
       "      <td>KARACHI Reuters  Pakistani President Pervez M...</td>\n",
       "      <td>karachi reuters  pakistani president pervez m...</td>\n",
       "      <td>karachi reuters  pakistani president pervez m...</td>\n",
       "    </tr>\n",
       "    <tr>\n",
       "      <th>119996</th>\n",
       "      <td>2</td>\n",
       "      <td>Renteria signing a top-shelf deal</td>\n",
       "      <td>Red Sox general manager Theo Epstein acknowled...</td>\n",
       "      <td>274</td>\n",
       "      <td>Red Sox general manager Theo Epstein acknowled...</td>\n",
       "      <td>red sox general manager theo epstein acknowled...</td>\n",
       "      <td>red sox general manager theo epstein acknowled...</td>\n",
       "    </tr>\n",
       "    <tr>\n",
       "      <th>119997</th>\n",
       "      <td>2</td>\n",
       "      <td>Saban not going to Dolphins yet</td>\n",
       "      <td>The Miami Dolphins will put their courtship of...</td>\n",
       "      <td>215</td>\n",
       "      <td>The Miami Dolphins will put their courtship of...</td>\n",
       "      <td>the miami dolphins will put their courtship of...</td>\n",
       "      <td>the miami dolphins will put their courtship of...</td>\n",
       "    </tr>\n",
       "    <tr>\n",
       "      <th>119998</th>\n",
       "      <td>2</td>\n",
       "      <td>Today's NFL games</td>\n",
       "      <td>PITTSBURGH at NY GIANTS Time: 1:30 p.m. Line: ...</td>\n",
       "      <td>352</td>\n",
       "      <td>PITTSBURGH at NY GIANTS Time 130 pm Line Steel...</td>\n",
       "      <td>pittsburgh at ny giants time 130 pm line steel...</td>\n",
       "      <td>pittsburgh at ny giants time  pm line steelers...</td>\n",
       "    </tr>\n",
       "    <tr>\n",
       "      <th>119999</th>\n",
       "      <td>2</td>\n",
       "      <td>Nets get Carter from Raptors</td>\n",
       "      <td>INDIANAPOLIS -- All-Star Vince Carter was trad...</td>\n",
       "      <td>195</td>\n",
       "      <td>INDIANAPOLIS  AllStar Vince Carter was traded ...</td>\n",
       "      <td>indianapolis  allstar vince carter was traded ...</td>\n",
       "      <td>indianapolis  allstar vince carter was traded ...</td>\n",
       "    </tr>\n",
       "  </tbody>\n",
       "</table>\n",
       "<p>120000 rows × 7 columns</p>\n",
       "</div>"
      ],
      "text/plain": [
       "        Class Index                                              Title  \\\n",
       "0                 3  Wall St. Bears Claw Back Into the Black (Reuters)   \n",
       "1                 3  Carlyle Looks Toward Commercial Aerospace (Reu...   \n",
       "2                 3    Oil and Economy Cloud Stocks' Outlook (Reuters)   \n",
       "3                 3  Iraq Halts Oil Exports from Main Southern Pipe...   \n",
       "4                 3  Oil prices soar to all-time record, posing new...   \n",
       "...             ...                                                ...   \n",
       "119995            1  Pakistan's Musharraf Says Won't Quit as Army C...   \n",
       "119996            2                  Renteria signing a top-shelf deal   \n",
       "119997            2                    Saban not going to Dolphins yet   \n",
       "119998            2                                  Today's NFL games   \n",
       "119999            2                       Nets get Carter from Raptors   \n",
       "\n",
       "                                              Description  News_length  \\\n",
       "0       Reuters - Short-sellers, Wall Street's dwindli...           94   \n",
       "1       Reuters - Private investment firm Carlyle Grou...          214   \n",
       "2       Reuters - Soaring crude prices plus worries\\ab...          184   \n",
       "3       Reuters - Authorities have halted oil export\\f...          195   \n",
       "4       AFP - Tearaway world oil prices, toppling reco...          160   \n",
       "...                                                   ...          ...   \n",
       "119995   KARACHI (Reuters) - Pakistani President Perve...          170   \n",
       "119996  Red Sox general manager Theo Epstein acknowled...          274   \n",
       "119997  The Miami Dolphins will put their courtship of...          215   \n",
       "119998  PITTSBURGH at NY GIANTS Time: 1:30 p.m. Line: ...          352   \n",
       "119999  INDIANAPOLIS -- All-Star Vince Carter was trad...          195   \n",
       "\n",
       "                                         Content_Parsed_1  \\\n",
       "0       Reuters  Shortsellers Wall Street's dwindling ...   \n",
       "1       Reuters  Private investment firm Carlyle Group...   \n",
       "2       Reuters  Soaring crude prices plus worries abo...   \n",
       "3       Reuters  Authorities have halted oil export fl...   \n",
       "4       AFP  Tearaway world oil prices toppling record...   \n",
       "...                                                   ...   \n",
       "119995   KARACHI Reuters  Pakistani President Pervez M...   \n",
       "119996  Red Sox general manager Theo Epstein acknowled...   \n",
       "119997  The Miami Dolphins will put their courtship of...   \n",
       "119998  PITTSBURGH at NY GIANTS Time 130 pm Line Steel...   \n",
       "119999  INDIANAPOLIS  AllStar Vince Carter was traded ...   \n",
       "\n",
       "                                         Content_Parsed_2  \\\n",
       "0       reuters  shortsellers wall street's dwindling ...   \n",
       "1       reuters  private investment firm carlyle group...   \n",
       "2       reuters  soaring crude prices plus worries abo...   \n",
       "3       reuters  authorities have halted oil export fl...   \n",
       "4       afp  tearaway world oil prices toppling record...   \n",
       "...                                                   ...   \n",
       "119995   karachi reuters  pakistani president pervez m...   \n",
       "119996  red sox general manager theo epstein acknowled...   \n",
       "119997  the miami dolphins will put their courtship of...   \n",
       "119998  pittsburgh at ny giants time 130 pm line steel...   \n",
       "119999  indianapolis  allstar vince carter was traded ...   \n",
       "\n",
       "                                         Content_Parsed_3  \n",
       "0       reuters  shortsellers wall street dwindling ba...  \n",
       "1       reuters  private investment firm carlyle group...  \n",
       "2       reuters  soaring crude prices plus worries abo...  \n",
       "3       reuters  authorities have halted oil export fl...  \n",
       "4       afp  tearaway world oil prices toppling record...  \n",
       "...                                                   ...  \n",
       "119995   karachi reuters  pakistani president pervez m...  \n",
       "119996  red sox general manager theo epstein acknowled...  \n",
       "119997  the miami dolphins will put their courtship of...  \n",
       "119998  pittsburgh at ny giants time  pm line steelers...  \n",
       "119999  indianapolis  allstar vince carter was traded ...  \n",
       "\n",
       "[120000 rows x 7 columns]"
      ]
     },
     "execution_count": 41,
     "metadata": {},
     "output_type": "execute_result"
    }
   ],
   "source": [
    "train"
   ]
  },
  {
   "cell_type": "code",
   "execution_count": 42,
   "metadata": {},
   "outputs": [],
   "source": [
    "test[\"Content_Parsed_3\"] = test['Content_Parsed_3'].str.replace('\\d+', '')"
   ]
  },
  {
   "cell_type": "code",
   "execution_count": 43,
   "metadata": {},
   "outputs": [
    {
     "data": {
      "text/plain": [
       "'forbescom  after earning a phd in sociology danny bazil riley started to work as the general manager at a commercial real estate firm at an annual base salary of   soon after a financial planner stopped by his desk to drop off brochures about insurance benefits available through his employer but at  buying insurance was the furthest thing from my mind says riley'"
      ]
     },
     "execution_count": 43,
     "metadata": {},
     "output_type": "execute_result"
    }
   ],
   "source": [
    "train.loc[8][\"Content_Parsed_3\"]"
   ]
  },
  {
   "cell_type": "markdown",
   "metadata": {},
   "source": [
    "# Lemmitization"
   ]
  },
  {
   "cell_type": "code",
   "execution_count": 44,
   "metadata": {},
   "outputs": [
    {
     "data": {
      "text/plain": [
       "120000"
      ]
     },
     "execution_count": 44,
     "metadata": {},
     "output_type": "execute_result"
    }
   ],
   "source": [
    "len(train)"
   ]
  },
  {
   "cell_type": "code",
   "execution_count": 45,
   "metadata": {},
   "outputs": [
    {
     "name": "stderr",
     "output_type": "stream",
     "text": [
      "[nltk_data] Downloading package punkt to C:\\Users\\Saumya\n",
      "[nltk_data]     Pandey\\AppData\\Roaming\\nltk_data...\n",
      "[nltk_data]   Package punkt is already up-to-date!\n",
      "[nltk_data] Downloading package wordnet to C:\\Users\\Saumya\n",
      "[nltk_data]     Pandey\\AppData\\Roaming\\nltk_data...\n"
     ]
    },
    {
     "name": "stdout",
     "output_type": "stream",
     "text": [
      "------------------------------------------------------------\n"
     ]
    },
    {
     "name": "stderr",
     "output_type": "stream",
     "text": [
      "[nltk_data]   Package wordnet is already up-to-date!\n"
     ]
    },
    {
     "data": {
      "text/plain": [
       "True"
      ]
     },
     "execution_count": 45,
     "metadata": {},
     "output_type": "execute_result"
    }
   ],
   "source": [
    "# Downloading punkt and wordnet from NLTK\n",
    "nltk.download('punkt')\n",
    "print(\"------------------------------------------------------------\")\n",
    "nltk.download('wordnet')"
   ]
  },
  {
   "cell_type": "code",
   "execution_count": 46,
   "metadata": {},
   "outputs": [],
   "source": [
    "from nltk.stem.wordnet import WordNetLemmatizer"
   ]
  },
  {
   "cell_type": "code",
   "execution_count": 47,
   "metadata": {},
   "outputs": [],
   "source": [
    "# Saving the lemmatizer into an object\n",
    "wordnet_lemmatizer = WordNetLemmatizer()"
   ]
  },
  {
   "cell_type": "code",
   "execution_count": 48,
   "metadata": {},
   "outputs": [],
   "source": [
    "nrows = len(train)\n",
    "lemmatized_text_list = []\n",
    "\n",
    "for row in range(0, nrows):\n",
    "    \n",
    "    # Create an empty list containing lemmatized words\n",
    "    lemmatized_list = []\n",
    "    \n",
    "    # Save the text and its words into an object\n",
    "    text = train.loc[row]['Content_Parsed_3']\n",
    "    text_words = text.split(\" \")\n",
    "\n",
    "    # Iterate through every word to lemmatize\n",
    "    for word in text_words:\n",
    "        lemmatized_list.append(wordnet_lemmatizer.lemmatize(word, pos=\"v\"))\n",
    "        \n",
    "    # Join the list\n",
    "    lemmatized_text = \" \".join(lemmatized_list)\n",
    "    \n",
    "    # Append to the list containing the texts\n",
    "    lemmatized_text_list.append(lemmatized_text)"
   ]
  },
  {
   "cell_type": "code",
   "execution_count": 49,
   "metadata": {},
   "outputs": [],
   "source": [
    "train['Content_Parsed_5'] = lemmatized_text_list"
   ]
  },
  {
   "cell_type": "code",
   "execution_count": 50,
   "metadata": {},
   "outputs": [
    {
     "data": {
      "text/plain": [
       "'a marlboroughbased technology company be sue five former employees include three senior managers for allegedly conspire against their employer while work on open a compete business'"
      ]
     },
     "execution_count": 50,
     "metadata": {},
     "output_type": "execute_result"
    }
   ],
   "source": [
    "train.loc[42]['Content_Parsed_5']"
   ]
  },
  {
   "cell_type": "code",
   "execution_count": 51,
   "metadata": {},
   "outputs": [],
   "source": [
    "nrows = len(test)\n",
    "lemmatized_text_list = []\n",
    "\n",
    "for row in range(0, nrows):\n",
    "    \n",
    "    # Create an empty list containing lemmatized words\n",
    "    lemmatized_list = []\n",
    "    \n",
    "    # Save the text and its words into an object\n",
    "    text = test.loc[row]['Content_Parsed_3']\n",
    "    text_words = text.split(\" \")\n",
    "\n",
    "    # Iterate through every word to lemmatize\n",
    "    for word in text_words:\n",
    "        lemmatized_list.append(wordnet_lemmatizer.lemmatize(word, pos=\"v\"))\n",
    "        \n",
    "    # Join the list\n",
    "    lemmatized_text = \" \".join(lemmatized_list)\n",
    "    \n",
    "    # Append to the list containing the texts\n",
    "    lemmatized_text_list.append(lemmatized_text)"
   ]
  },
  {
   "cell_type": "code",
   "execution_count": 52,
   "metadata": {},
   "outputs": [],
   "source": [
    "test['Content_Parsed_5'] = lemmatized_text_list"
   ]
  },
  {
   "cell_type": "code",
   "execution_count": 53,
   "metadata": {},
   "outputs": [
    {
     "data": {
      "text/html": [
       "<div>\n",
       "<style scoped>\n",
       "    .dataframe tbody tr th:only-of-type {\n",
       "        vertical-align: middle;\n",
       "    }\n",
       "\n",
       "    .dataframe tbody tr th {\n",
       "        vertical-align: top;\n",
       "    }\n",
       "\n",
       "    .dataframe thead th {\n",
       "        text-align: right;\n",
       "    }\n",
       "</style>\n",
       "<table border=\"1\" class=\"dataframe\">\n",
       "  <thead>\n",
       "    <tr style=\"text-align: right;\">\n",
       "      <th></th>\n",
       "      <th>Class Index</th>\n",
       "      <th>Title</th>\n",
       "      <th>Description</th>\n",
       "      <th>News_length</th>\n",
       "      <th>Content_Parsed_1</th>\n",
       "      <th>Content_Parsed_2</th>\n",
       "      <th>Content_Parsed_3</th>\n",
       "      <th>Content_Parsed_5</th>\n",
       "    </tr>\n",
       "  </thead>\n",
       "  <tbody>\n",
       "    <tr>\n",
       "      <th>0</th>\n",
       "      <td>3</td>\n",
       "      <td>Wall St. Bears Claw Back Into the Black (Reuters)</td>\n",
       "      <td>Reuters - Short-sellers, Wall Street's dwindli...</td>\n",
       "      <td>94</td>\n",
       "      <td>Reuters  Shortsellers Wall Street's dwindling ...</td>\n",
       "      <td>reuters  shortsellers wall street's dwindling ...</td>\n",
       "      <td>reuters  shortsellers wall street dwindling ba...</td>\n",
       "      <td>reuters  shortsellers wall street dwindle band...</td>\n",
       "    </tr>\n",
       "    <tr>\n",
       "      <th>1</th>\n",
       "      <td>3</td>\n",
       "      <td>Carlyle Looks Toward Commercial Aerospace (Reu...</td>\n",
       "      <td>Reuters - Private investment firm Carlyle Grou...</td>\n",
       "      <td>214</td>\n",
       "      <td>Reuters  Private investment firm Carlyle Group...</td>\n",
       "      <td>reuters  private investment firm carlyle group...</td>\n",
       "      <td>reuters  private investment firm carlyle group...</td>\n",
       "      <td>reuters  private investment firm carlyle group...</td>\n",
       "    </tr>\n",
       "    <tr>\n",
       "      <th>2</th>\n",
       "      <td>3</td>\n",
       "      <td>Oil and Economy Cloud Stocks' Outlook (Reuters)</td>\n",
       "      <td>Reuters - Soaring crude prices plus worries\\ab...</td>\n",
       "      <td>184</td>\n",
       "      <td>Reuters  Soaring crude prices plus worries abo...</td>\n",
       "      <td>reuters  soaring crude prices plus worries abo...</td>\n",
       "      <td>reuters  soaring crude prices plus worries abo...</td>\n",
       "      <td>reuters  soar crude price plus worry about the...</td>\n",
       "    </tr>\n",
       "    <tr>\n",
       "      <th>3</th>\n",
       "      <td>3</td>\n",
       "      <td>Iraq Halts Oil Exports from Main Southern Pipe...</td>\n",
       "      <td>Reuters - Authorities have halted oil export\\f...</td>\n",
       "      <td>195</td>\n",
       "      <td>Reuters  Authorities have halted oil export fl...</td>\n",
       "      <td>reuters  authorities have halted oil export fl...</td>\n",
       "      <td>reuters  authorities have halted oil export fl...</td>\n",
       "      <td>reuters  authorities have halt oil export flow...</td>\n",
       "    </tr>\n",
       "    <tr>\n",
       "      <th>4</th>\n",
       "      <td>3</td>\n",
       "      <td>Oil prices soar to all-time record, posing new...</td>\n",
       "      <td>AFP - Tearaway world oil prices, toppling reco...</td>\n",
       "      <td>160</td>\n",
       "      <td>AFP  Tearaway world oil prices toppling record...</td>\n",
       "      <td>afp  tearaway world oil prices toppling record...</td>\n",
       "      <td>afp  tearaway world oil prices toppling record...</td>\n",
       "      <td>afp  tearaway world oil price topple record an...</td>\n",
       "    </tr>\n",
       "    <tr>\n",
       "      <th>...</th>\n",
       "      <td>...</td>\n",
       "      <td>...</td>\n",
       "      <td>...</td>\n",
       "      <td>...</td>\n",
       "      <td>...</td>\n",
       "      <td>...</td>\n",
       "      <td>...</td>\n",
       "      <td>...</td>\n",
       "    </tr>\n",
       "    <tr>\n",
       "      <th>119995</th>\n",
       "      <td>1</td>\n",
       "      <td>Pakistan's Musharraf Says Won't Quit as Army C...</td>\n",
       "      <td>KARACHI (Reuters) - Pakistani President Perve...</td>\n",
       "      <td>170</td>\n",
       "      <td>KARACHI Reuters  Pakistani President Pervez M...</td>\n",
       "      <td>karachi reuters  pakistani president pervez m...</td>\n",
       "      <td>karachi reuters  pakistani president pervez m...</td>\n",
       "      <td>karachi reuters  pakistani president pervez m...</td>\n",
       "    </tr>\n",
       "    <tr>\n",
       "      <th>119996</th>\n",
       "      <td>2</td>\n",
       "      <td>Renteria signing a top-shelf deal</td>\n",
       "      <td>Red Sox general manager Theo Epstein acknowled...</td>\n",
       "      <td>274</td>\n",
       "      <td>Red Sox general manager Theo Epstein acknowled...</td>\n",
       "      <td>red sox general manager theo epstein acknowled...</td>\n",
       "      <td>red sox general manager theo epstein acknowled...</td>\n",
       "      <td>red sox general manager theo epstein acknowled...</td>\n",
       "    </tr>\n",
       "    <tr>\n",
       "      <th>119997</th>\n",
       "      <td>2</td>\n",
       "      <td>Saban not going to Dolphins yet</td>\n",
       "      <td>The Miami Dolphins will put their courtship of...</td>\n",
       "      <td>215</td>\n",
       "      <td>The Miami Dolphins will put their courtship of...</td>\n",
       "      <td>the miami dolphins will put their courtship of...</td>\n",
       "      <td>the miami dolphins will put their courtship of...</td>\n",
       "      <td>the miami dolphins will put their courtship of...</td>\n",
       "    </tr>\n",
       "    <tr>\n",
       "      <th>119998</th>\n",
       "      <td>2</td>\n",
       "      <td>Today's NFL games</td>\n",
       "      <td>PITTSBURGH at NY GIANTS Time: 1:30 p.m. Line: ...</td>\n",
       "      <td>352</td>\n",
       "      <td>PITTSBURGH at NY GIANTS Time 130 pm Line Steel...</td>\n",
       "      <td>pittsburgh at ny giants time 130 pm line steel...</td>\n",
       "      <td>pittsburgh at ny giants time  pm line steelers...</td>\n",
       "      <td>pittsburgh at ny giants time  pm line steelers...</td>\n",
       "    </tr>\n",
       "    <tr>\n",
       "      <th>119999</th>\n",
       "      <td>2</td>\n",
       "      <td>Nets get Carter from Raptors</td>\n",
       "      <td>INDIANAPOLIS -- All-Star Vince Carter was trad...</td>\n",
       "      <td>195</td>\n",
       "      <td>INDIANAPOLIS  AllStar Vince Carter was traded ...</td>\n",
       "      <td>indianapolis  allstar vince carter was traded ...</td>\n",
       "      <td>indianapolis  allstar vince carter was traded ...</td>\n",
       "      <td>indianapolis  allstar vince carter be trade by...</td>\n",
       "    </tr>\n",
       "  </tbody>\n",
       "</table>\n",
       "<p>120000 rows × 8 columns</p>\n",
       "</div>"
      ],
      "text/plain": [
       "        Class Index                                              Title  \\\n",
       "0                 3  Wall St. Bears Claw Back Into the Black (Reuters)   \n",
       "1                 3  Carlyle Looks Toward Commercial Aerospace (Reu...   \n",
       "2                 3    Oil and Economy Cloud Stocks' Outlook (Reuters)   \n",
       "3                 3  Iraq Halts Oil Exports from Main Southern Pipe...   \n",
       "4                 3  Oil prices soar to all-time record, posing new...   \n",
       "...             ...                                                ...   \n",
       "119995            1  Pakistan's Musharraf Says Won't Quit as Army C...   \n",
       "119996            2                  Renteria signing a top-shelf deal   \n",
       "119997            2                    Saban not going to Dolphins yet   \n",
       "119998            2                                  Today's NFL games   \n",
       "119999            2                       Nets get Carter from Raptors   \n",
       "\n",
       "                                              Description  News_length  \\\n",
       "0       Reuters - Short-sellers, Wall Street's dwindli...           94   \n",
       "1       Reuters - Private investment firm Carlyle Grou...          214   \n",
       "2       Reuters - Soaring crude prices plus worries\\ab...          184   \n",
       "3       Reuters - Authorities have halted oil export\\f...          195   \n",
       "4       AFP - Tearaway world oil prices, toppling reco...          160   \n",
       "...                                                   ...          ...   \n",
       "119995   KARACHI (Reuters) - Pakistani President Perve...          170   \n",
       "119996  Red Sox general manager Theo Epstein acknowled...          274   \n",
       "119997  The Miami Dolphins will put their courtship of...          215   \n",
       "119998  PITTSBURGH at NY GIANTS Time: 1:30 p.m. Line: ...          352   \n",
       "119999  INDIANAPOLIS -- All-Star Vince Carter was trad...          195   \n",
       "\n",
       "                                         Content_Parsed_1  \\\n",
       "0       Reuters  Shortsellers Wall Street's dwindling ...   \n",
       "1       Reuters  Private investment firm Carlyle Group...   \n",
       "2       Reuters  Soaring crude prices plus worries abo...   \n",
       "3       Reuters  Authorities have halted oil export fl...   \n",
       "4       AFP  Tearaway world oil prices toppling record...   \n",
       "...                                                   ...   \n",
       "119995   KARACHI Reuters  Pakistani President Pervez M...   \n",
       "119996  Red Sox general manager Theo Epstein acknowled...   \n",
       "119997  The Miami Dolphins will put their courtship of...   \n",
       "119998  PITTSBURGH at NY GIANTS Time 130 pm Line Steel...   \n",
       "119999  INDIANAPOLIS  AllStar Vince Carter was traded ...   \n",
       "\n",
       "                                         Content_Parsed_2  \\\n",
       "0       reuters  shortsellers wall street's dwindling ...   \n",
       "1       reuters  private investment firm carlyle group...   \n",
       "2       reuters  soaring crude prices plus worries abo...   \n",
       "3       reuters  authorities have halted oil export fl...   \n",
       "4       afp  tearaway world oil prices toppling record...   \n",
       "...                                                   ...   \n",
       "119995   karachi reuters  pakistani president pervez m...   \n",
       "119996  red sox general manager theo epstein acknowled...   \n",
       "119997  the miami dolphins will put their courtship of...   \n",
       "119998  pittsburgh at ny giants time 130 pm line steel...   \n",
       "119999  indianapolis  allstar vince carter was traded ...   \n",
       "\n",
       "                                         Content_Parsed_3  \\\n",
       "0       reuters  shortsellers wall street dwindling ba...   \n",
       "1       reuters  private investment firm carlyle group...   \n",
       "2       reuters  soaring crude prices plus worries abo...   \n",
       "3       reuters  authorities have halted oil export fl...   \n",
       "4       afp  tearaway world oil prices toppling record...   \n",
       "...                                                   ...   \n",
       "119995   karachi reuters  pakistani president pervez m...   \n",
       "119996  red sox general manager theo epstein acknowled...   \n",
       "119997  the miami dolphins will put their courtship of...   \n",
       "119998  pittsburgh at ny giants time  pm line steelers...   \n",
       "119999  indianapolis  allstar vince carter was traded ...   \n",
       "\n",
       "                                         Content_Parsed_5  \n",
       "0       reuters  shortsellers wall street dwindle band...  \n",
       "1       reuters  private investment firm carlyle group...  \n",
       "2       reuters  soar crude price plus worry about the...  \n",
       "3       reuters  authorities have halt oil export flow...  \n",
       "4       afp  tearaway world oil price topple record an...  \n",
       "...                                                   ...  \n",
       "119995   karachi reuters  pakistani president pervez m...  \n",
       "119996  red sox general manager theo epstein acknowled...  \n",
       "119997  the miami dolphins will put their courtship of...  \n",
       "119998  pittsburgh at ny giants time  pm line steelers...  \n",
       "119999  indianapolis  allstar vince carter be trade by...  \n",
       "\n",
       "[120000 rows x 8 columns]"
      ]
     },
     "execution_count": 53,
     "metadata": {},
     "output_type": "execute_result"
    }
   ],
   "source": [
    "train"
   ]
  },
  {
   "cell_type": "markdown",
   "metadata": {},
   "source": [
    "# Tokenizing our dataset"
   ]
  },
  {
   "cell_type": "code",
   "execution_count": 54,
   "metadata": {},
   "outputs": [],
   "source": [
    "train[\"Tokenized_sentences\"] = train.apply(lambda row: nltk.word_tokenize(row['Content_Parsed_5']), axis=1)\n",
    "test[\"Tokenized_sentences\"] = test.apply(lambda row: nltk.word_tokenize(row['Content_Parsed_5']), axis=1)"
   ]
  },
  {
   "cell_type": "code",
   "execution_count": 55,
   "metadata": {},
   "outputs": [
    {
     "data": {
      "text/html": [
       "<div>\n",
       "<style scoped>\n",
       "    .dataframe tbody tr th:only-of-type {\n",
       "        vertical-align: middle;\n",
       "    }\n",
       "\n",
       "    .dataframe tbody tr th {\n",
       "        vertical-align: top;\n",
       "    }\n",
       "\n",
       "    .dataframe thead th {\n",
       "        text-align: right;\n",
       "    }\n",
       "</style>\n",
       "<table border=\"1\" class=\"dataframe\">\n",
       "  <thead>\n",
       "    <tr style=\"text-align: right;\">\n",
       "      <th></th>\n",
       "      <th>Class Index</th>\n",
       "      <th>Title</th>\n",
       "      <th>Description</th>\n",
       "      <th>News_length</th>\n",
       "      <th>Content_Parsed_1</th>\n",
       "      <th>Content_Parsed_2</th>\n",
       "      <th>Content_Parsed_3</th>\n",
       "      <th>Content_Parsed_5</th>\n",
       "      <th>Tokenized_sentences</th>\n",
       "    </tr>\n",
       "  </thead>\n",
       "  <tbody>\n",
       "    <tr>\n",
       "      <th>0</th>\n",
       "      <td>3</td>\n",
       "      <td>Wall St. Bears Claw Back Into the Black (Reuters)</td>\n",
       "      <td>Reuters - Short-sellers, Wall Street's dwindli...</td>\n",
       "      <td>94</td>\n",
       "      <td>Reuters  Shortsellers Wall Street's dwindling ...</td>\n",
       "      <td>reuters  shortsellers wall street's dwindling ...</td>\n",
       "      <td>reuters  shortsellers wall street dwindling ba...</td>\n",
       "      <td>reuters  shortsellers wall street dwindle band...</td>\n",
       "      <td>[reuters, shortsellers, wall, street, dwindle,...</td>\n",
       "    </tr>\n",
       "    <tr>\n",
       "      <th>1</th>\n",
       "      <td>3</td>\n",
       "      <td>Carlyle Looks Toward Commercial Aerospace (Reu...</td>\n",
       "      <td>Reuters - Private investment firm Carlyle Grou...</td>\n",
       "      <td>214</td>\n",
       "      <td>Reuters  Private investment firm Carlyle Group...</td>\n",
       "      <td>reuters  private investment firm carlyle group...</td>\n",
       "      <td>reuters  private investment firm carlyle group...</td>\n",
       "      <td>reuters  private investment firm carlyle group...</td>\n",
       "      <td>[reuters, private, investment, firm, carlyle, ...</td>\n",
       "    </tr>\n",
       "    <tr>\n",
       "      <th>2</th>\n",
       "      <td>3</td>\n",
       "      <td>Oil and Economy Cloud Stocks' Outlook (Reuters)</td>\n",
       "      <td>Reuters - Soaring crude prices plus worries\\ab...</td>\n",
       "      <td>184</td>\n",
       "      <td>Reuters  Soaring crude prices plus worries abo...</td>\n",
       "      <td>reuters  soaring crude prices plus worries abo...</td>\n",
       "      <td>reuters  soaring crude prices plus worries abo...</td>\n",
       "      <td>reuters  soar crude price plus worry about the...</td>\n",
       "      <td>[reuters, soar, crude, price, plus, worry, abo...</td>\n",
       "    </tr>\n",
       "    <tr>\n",
       "      <th>3</th>\n",
       "      <td>3</td>\n",
       "      <td>Iraq Halts Oil Exports from Main Southern Pipe...</td>\n",
       "      <td>Reuters - Authorities have halted oil export\\f...</td>\n",
       "      <td>195</td>\n",
       "      <td>Reuters  Authorities have halted oil export fl...</td>\n",
       "      <td>reuters  authorities have halted oil export fl...</td>\n",
       "      <td>reuters  authorities have halted oil export fl...</td>\n",
       "      <td>reuters  authorities have halt oil export flow...</td>\n",
       "      <td>[reuters, authorities, have, halt, oil, export...</td>\n",
       "    </tr>\n",
       "    <tr>\n",
       "      <th>4</th>\n",
       "      <td>3</td>\n",
       "      <td>Oil prices soar to all-time record, posing new...</td>\n",
       "      <td>AFP - Tearaway world oil prices, toppling reco...</td>\n",
       "      <td>160</td>\n",
       "      <td>AFP  Tearaway world oil prices toppling record...</td>\n",
       "      <td>afp  tearaway world oil prices toppling record...</td>\n",
       "      <td>afp  tearaway world oil prices toppling record...</td>\n",
       "      <td>afp  tearaway world oil price topple record an...</td>\n",
       "      <td>[afp, tearaway, world, oil, price, topple, rec...</td>\n",
       "    </tr>\n",
       "  </tbody>\n",
       "</table>\n",
       "</div>"
      ],
      "text/plain": [
       "   Class Index                                              Title  \\\n",
       "0            3  Wall St. Bears Claw Back Into the Black (Reuters)   \n",
       "1            3  Carlyle Looks Toward Commercial Aerospace (Reu...   \n",
       "2            3    Oil and Economy Cloud Stocks' Outlook (Reuters)   \n",
       "3            3  Iraq Halts Oil Exports from Main Southern Pipe...   \n",
       "4            3  Oil prices soar to all-time record, posing new...   \n",
       "\n",
       "                                         Description  News_length  \\\n",
       "0  Reuters - Short-sellers, Wall Street's dwindli...           94   \n",
       "1  Reuters - Private investment firm Carlyle Grou...          214   \n",
       "2  Reuters - Soaring crude prices plus worries\\ab...          184   \n",
       "3  Reuters - Authorities have halted oil export\\f...          195   \n",
       "4  AFP - Tearaway world oil prices, toppling reco...          160   \n",
       "\n",
       "                                    Content_Parsed_1  \\\n",
       "0  Reuters  Shortsellers Wall Street's dwindling ...   \n",
       "1  Reuters  Private investment firm Carlyle Group...   \n",
       "2  Reuters  Soaring crude prices plus worries abo...   \n",
       "3  Reuters  Authorities have halted oil export fl...   \n",
       "4  AFP  Tearaway world oil prices toppling record...   \n",
       "\n",
       "                                    Content_Parsed_2  \\\n",
       "0  reuters  shortsellers wall street's dwindling ...   \n",
       "1  reuters  private investment firm carlyle group...   \n",
       "2  reuters  soaring crude prices plus worries abo...   \n",
       "3  reuters  authorities have halted oil export fl...   \n",
       "4  afp  tearaway world oil prices toppling record...   \n",
       "\n",
       "                                    Content_Parsed_3  \\\n",
       "0  reuters  shortsellers wall street dwindling ba...   \n",
       "1  reuters  private investment firm carlyle group...   \n",
       "2  reuters  soaring crude prices plus worries abo...   \n",
       "3  reuters  authorities have halted oil export fl...   \n",
       "4  afp  tearaway world oil prices toppling record...   \n",
       "\n",
       "                                    Content_Parsed_5  \\\n",
       "0  reuters  shortsellers wall street dwindle band...   \n",
       "1  reuters  private investment firm carlyle group...   \n",
       "2  reuters  soar crude price plus worry about the...   \n",
       "3  reuters  authorities have halt oil export flow...   \n",
       "4  afp  tearaway world oil price topple record an...   \n",
       "\n",
       "                                 Tokenized_sentences  \n",
       "0  [reuters, shortsellers, wall, street, dwindle,...  \n",
       "1  [reuters, private, investment, firm, carlyle, ...  \n",
       "2  [reuters, soar, crude, price, plus, worry, abo...  \n",
       "3  [reuters, authorities, have, halt, oil, export...  \n",
       "4  [afp, tearaway, world, oil, price, topple, rec...  "
      ]
     },
     "execution_count": 55,
     "metadata": {},
     "output_type": "execute_result"
    }
   ],
   "source": [
    "\n",
    "train.head()"
   ]
  },
  {
   "cell_type": "code",
   "execution_count": 56,
   "metadata": {},
   "outputs": [
    {
     "data": {
      "text/html": [
       "<div>\n",
       "<style scoped>\n",
       "    .dataframe tbody tr th:only-of-type {\n",
       "        vertical-align: middle;\n",
       "    }\n",
       "\n",
       "    .dataframe tbody tr th {\n",
       "        vertical-align: top;\n",
       "    }\n",
       "\n",
       "    .dataframe thead th {\n",
       "        text-align: right;\n",
       "    }\n",
       "</style>\n",
       "<table border=\"1\" class=\"dataframe\">\n",
       "  <thead>\n",
       "    <tr style=\"text-align: right;\">\n",
       "      <th></th>\n",
       "      <th>Class Index</th>\n",
       "      <th>Title</th>\n",
       "      <th>Description</th>\n",
       "      <th>News_length</th>\n",
       "      <th>Content_Parsed_1</th>\n",
       "      <th>Content_Parsed_2</th>\n",
       "      <th>Content_Parsed_3</th>\n",
       "      <th>Content_Parsed_5</th>\n",
       "      <th>Tokenized_sentences</th>\n",
       "    </tr>\n",
       "  </thead>\n",
       "  <tbody>\n",
       "    <tr>\n",
       "      <th>0</th>\n",
       "      <td>3</td>\n",
       "      <td>Fears for T N pension after talks</td>\n",
       "      <td>Unions representing workers at Turner   Newall...</td>\n",
       "      <td>127</td>\n",
       "      <td>Unions representing workers at Turner   Newall...</td>\n",
       "      <td>unions representing workers at turner   newall...</td>\n",
       "      <td>unions representing workers at turner   newall...</td>\n",
       "      <td>unions represent workers at turner   newall sa...</td>\n",
       "      <td>[unions, represent, workers, at, turner, newal...</td>\n",
       "    </tr>\n",
       "    <tr>\n",
       "      <th>1</th>\n",
       "      <td>4</td>\n",
       "      <td>The Race is On: Second Private Team Sets Launc...</td>\n",
       "      <td>SPACE.com - TORONTO, Canada -- A second\\team o...</td>\n",
       "      <td>234</td>\n",
       "      <td>SPACEcom  TORONTO Canada  A second team of roc...</td>\n",
       "      <td>spacecom  toronto canada  a second team of roc...</td>\n",
       "      <td>spacecom  toronto canada  a second team of roc...</td>\n",
       "      <td>spacecom  toronto canada  a second team of roc...</td>\n",
       "      <td>[spacecom, toronto, canada, a, second, team, o...</td>\n",
       "    </tr>\n",
       "    <tr>\n",
       "      <th>2</th>\n",
       "      <td>4</td>\n",
       "      <td>Ky. Company Wins Grant to Study Peptides (AP)</td>\n",
       "      <td>AP - A company founded by a chemistry research...</td>\n",
       "      <td>214</td>\n",
       "      <td>AP  A company founded by a chemistry researche...</td>\n",
       "      <td>ap  a company founded by a chemistry researche...</td>\n",
       "      <td>ap  a company founded by a chemistry researche...</td>\n",
       "      <td>ap  a company found by a chemistry researcher ...</td>\n",
       "      <td>[ap, a, company, found, by, a, chemistry, rese...</td>\n",
       "    </tr>\n",
       "    <tr>\n",
       "      <th>3</th>\n",
       "      <td>4</td>\n",
       "      <td>Prediction Unit Helps Forecast Wildfires (AP)</td>\n",
       "      <td>AP - It's barely dawn when Mike Fitzpatrick st...</td>\n",
       "      <td>272</td>\n",
       "      <td>AP  It's barely dawn when Mike Fitzpatrick sta...</td>\n",
       "      <td>ap  it's barely dawn when mike fitzpatrick sta...</td>\n",
       "      <td>ap  it barely dawn when mike fitzpatrick start...</td>\n",
       "      <td>ap  it barely dawn when mike fitzpatrick start...</td>\n",
       "      <td>[ap, it, barely, dawn, when, mike, fitzpatrick...</td>\n",
       "    </tr>\n",
       "    <tr>\n",
       "      <th>4</th>\n",
       "      <td>4</td>\n",
       "      <td>Calif. Aims to Limit Farm-Related Smog (AP)</td>\n",
       "      <td>AP - Southern California's smog-fighting agenc...</td>\n",
       "      <td>179</td>\n",
       "      <td>AP  Southern California's smogfighting agency ...</td>\n",
       "      <td>ap  southern california's smogfighting agency ...</td>\n",
       "      <td>ap  southern california smogfighting agency we...</td>\n",
       "      <td>ap  southern california smogfighting agency go...</td>\n",
       "      <td>[ap, southern, california, smogfighting, agenc...</td>\n",
       "    </tr>\n",
       "  </tbody>\n",
       "</table>\n",
       "</div>"
      ],
      "text/plain": [
       "   Class Index                                              Title  \\\n",
       "0            3                  Fears for T N pension after talks   \n",
       "1            4  The Race is On: Second Private Team Sets Launc...   \n",
       "2            4      Ky. Company Wins Grant to Study Peptides (AP)   \n",
       "3            4      Prediction Unit Helps Forecast Wildfires (AP)   \n",
       "4            4        Calif. Aims to Limit Farm-Related Smog (AP)   \n",
       "\n",
       "                                         Description  News_length  \\\n",
       "0  Unions representing workers at Turner   Newall...          127   \n",
       "1  SPACE.com - TORONTO, Canada -- A second\\team o...          234   \n",
       "2  AP - A company founded by a chemistry research...          214   \n",
       "3  AP - It's barely dawn when Mike Fitzpatrick st...          272   \n",
       "4  AP - Southern California's smog-fighting agenc...          179   \n",
       "\n",
       "                                    Content_Parsed_1  \\\n",
       "0  Unions representing workers at Turner   Newall...   \n",
       "1  SPACEcom  TORONTO Canada  A second team of roc...   \n",
       "2  AP  A company founded by a chemistry researche...   \n",
       "3  AP  It's barely dawn when Mike Fitzpatrick sta...   \n",
       "4  AP  Southern California's smogfighting agency ...   \n",
       "\n",
       "                                    Content_Parsed_2  \\\n",
       "0  unions representing workers at turner   newall...   \n",
       "1  spacecom  toronto canada  a second team of roc...   \n",
       "2  ap  a company founded by a chemistry researche...   \n",
       "3  ap  it's barely dawn when mike fitzpatrick sta...   \n",
       "4  ap  southern california's smogfighting agency ...   \n",
       "\n",
       "                                    Content_Parsed_3  \\\n",
       "0  unions representing workers at turner   newall...   \n",
       "1  spacecom  toronto canada  a second team of roc...   \n",
       "2  ap  a company founded by a chemistry researche...   \n",
       "3  ap  it barely dawn when mike fitzpatrick start...   \n",
       "4  ap  southern california smogfighting agency we...   \n",
       "\n",
       "                                    Content_Parsed_5  \\\n",
       "0  unions represent workers at turner   newall sa...   \n",
       "1  spacecom  toronto canada  a second team of roc...   \n",
       "2  ap  a company found by a chemistry researcher ...   \n",
       "3  ap  it barely dawn when mike fitzpatrick start...   \n",
       "4  ap  southern california smogfighting agency go...   \n",
       "\n",
       "                                 Tokenized_sentences  \n",
       "0  [unions, represent, workers, at, turner, newal...  \n",
       "1  [spacecom, toronto, canada, a, second, team, o...  \n",
       "2  [ap, a, company, found, by, a, chemistry, rese...  \n",
       "3  [ap, it, barely, dawn, when, mike, fitzpatrick...  \n",
       "4  [ap, southern, california, smogfighting, agenc...  "
      ]
     },
     "execution_count": 56,
     "metadata": {},
     "output_type": "execute_result"
    }
   ],
   "source": [
    "test.head()"
   ]
  },
  {
   "cell_type": "code",
   "execution_count": 57,
   "metadata": {},
   "outputs": [
    {
     "name": "stdout",
     "output_type": "stream",
     "text": [
      "['los', 'angeles', 'reuters', 'a', 'group', 'of', 'technology', 'company', 'include', 'texas', 'instrument', 'inc', 'lttxnn', 'gt', 'stmicroelectronics', 'ltstmpa', 'gt', 'and', 'broadcom', 'corp', 'ltbrcmo', 'gt', 'on', 'thursday', 'say', 'they', 'will', 'propose', 'a', 'new', 'wireless', 'network', 'standard', 'up', 'to', 'time', 'the', 'speed', 'of', 'the', 'current', 'generation']\n"
     ]
    }
   ],
   "source": [
    "print(test.loc[10][\"Tokenized_sentences\"])"
   ]
  },
  {
   "cell_type": "markdown",
   "metadata": {},
   "source": [
    "# Stopwords"
   ]
  },
  {
   "cell_type": "code",
   "execution_count": 58,
   "metadata": {},
   "outputs": [
    {
     "name": "stderr",
     "output_type": "stream",
     "text": [
      "[nltk_data] Downloading package stopwords to C:\\Users\\Saumya\n",
      "[nltk_data]     Pandey\\AppData\\Roaming\\nltk_data...\n",
      "[nltk_data]   Package stopwords is already up-to-date!\n"
     ]
    },
    {
     "data": {
      "text/plain": [
       "True"
      ]
     },
     "execution_count": 58,
     "metadata": {},
     "output_type": "execute_result"
    }
   ],
   "source": [
    "# Download the stopwords list\n",
    "nltk.download('stopwords')"
   ]
  },
  {
   "cell_type": "code",
   "execution_count": 59,
   "metadata": {},
   "outputs": [
    {
     "name": "stdout",
     "output_type": "stream",
     "text": [
      "['i', 'me', 'my', 'myself', 'we', 'our', 'ours', 'ourselves', 'you', \"you're\", \"you've\", \"you'll\", \"you'd\", 'your', 'yours', 'yourself', 'yourselves', 'he', 'him', 'his', 'himself', 'she', \"she's\", 'her', 'hers', 'herself', 'it', \"it's\", 'its', 'itself', 'they', 'them', 'their', 'theirs', 'themselves', 'what', 'which', 'who', 'whom', 'this', 'that', \"that'll\", 'these', 'those', 'am', 'is', 'are', 'was', 'were', 'be', 'been', 'being', 'have', 'has', 'had', 'having', 'do', 'does', 'did', 'doing', 'a', 'an', 'the', 'and', 'but', 'if', 'or', 'because', 'as', 'until', 'while', 'of', 'at', 'by', 'for', 'with', 'about', 'against', 'between', 'into', 'through', 'during', 'before', 'after', 'above', 'below', 'to', 'from', 'up', 'down', 'in', 'out', 'on', 'off', 'over', 'under', 'again', 'further', 'then', 'once', 'here', 'there', 'when', 'where', 'why', 'how', 'all', 'any', 'both', 'each', 'few', 'more', 'most', 'other', 'some', 'such', 'no', 'nor', 'not', 'only', 'own', 'same', 'so', 'than', 'too', 'very', 's', 't', 'can', 'will', 'just', 'don', \"don't\", 'should', \"should've\", 'now', 'd', 'll', 'm', 'o', 're', 've', 'y', 'ain', 'aren', \"aren't\", 'couldn', \"couldn't\", 'didn', \"didn't\", 'doesn', \"doesn't\", 'hadn', \"hadn't\", 'hasn', \"hasn't\", 'haven', \"haven't\", 'isn', \"isn't\", 'ma', 'mightn', \"mightn't\", 'mustn', \"mustn't\", 'needn', \"needn't\", 'shan', \"shan't\", 'shouldn', \"shouldn't\", 'wasn', \"wasn't\", 'weren', \"weren't\", 'won', \"won't\", 'wouldn', \"wouldn't\"]\n"
     ]
    }
   ],
   "source": [
    "# Loading the stop words in english\n",
    "stop_words = list(stopwords.words('english'))\n",
    "print(stop_words)"
   ]
  },
  {
   "cell_type": "code",
   "execution_count": 60,
   "metadata": {},
   "outputs": [
    {
     "data": {
      "text/plain": [
       "'marlboroughbased technology company sue five former employees include three senior managers allegedly conspire employer work open compete business'"
      ]
     },
     "execution_count": 60,
     "metadata": {},
     "output_type": "execute_result"
    }
   ],
   "source": [
    "train['desc_without_stopwords'] = train['Tokenized_sentences'].apply(lambda x: ' '.join([word for word in x if word not in (stop_words)]))       \n",
    "train.loc[42]['desc_without_stopwords']"
   ]
  },
  {
   "cell_type": "code",
   "execution_count": 61,
   "metadata": {},
   "outputs": [
    {
     "data": {
      "text/plain": [
       "'los angeles reuters group technology company include texas instrument inc lttxnn gt stmicroelectronics ltstmpa gt broadcom corp ltbrcmo gt thursday say propose new wireless network standard time speed current generation'"
      ]
     },
     "execution_count": 61,
     "metadata": {},
     "output_type": "execute_result"
    }
   ],
   "source": [
    "test['desc_without_stopwords'] = test['Tokenized_sentences'].apply(lambda x: ' '.join([word for word in x if word not in (stop_words)]))       \n",
    "test.loc[10]['desc_without_stopwords']"
   ]
  },
  {
   "cell_type": "code",
   "execution_count": 62,
   "metadata": {},
   "outputs": [
    {
     "data": {
      "text/html": [
       "<div>\n",
       "<style scoped>\n",
       "    .dataframe tbody tr th:only-of-type {\n",
       "        vertical-align: middle;\n",
       "    }\n",
       "\n",
       "    .dataframe tbody tr th {\n",
       "        vertical-align: top;\n",
       "    }\n",
       "\n",
       "    .dataframe thead th {\n",
       "        text-align: right;\n",
       "    }\n",
       "</style>\n",
       "<table border=\"1\" class=\"dataframe\">\n",
       "  <thead>\n",
       "    <tr style=\"text-align: right;\">\n",
       "      <th></th>\n",
       "      <th>Class Index</th>\n",
       "      <th>Title</th>\n",
       "      <th>Description</th>\n",
       "      <th>News_length</th>\n",
       "      <th>Content_Parsed_1</th>\n",
       "      <th>Content_Parsed_2</th>\n",
       "      <th>Content_Parsed_3</th>\n",
       "      <th>Content_Parsed_5</th>\n",
       "      <th>Tokenized_sentences</th>\n",
       "      <th>desc_without_stopwords</th>\n",
       "    </tr>\n",
       "  </thead>\n",
       "  <tbody>\n",
       "    <tr>\n",
       "      <th>0</th>\n",
       "      <td>3</td>\n",
       "      <td>Wall St. Bears Claw Back Into the Black (Reuters)</td>\n",
       "      <td>Reuters - Short-sellers, Wall Street's dwindli...</td>\n",
       "      <td>94</td>\n",
       "      <td>Reuters  Shortsellers Wall Street's dwindling ...</td>\n",
       "      <td>reuters  shortsellers wall street's dwindling ...</td>\n",
       "      <td>reuters  shortsellers wall street dwindling ba...</td>\n",
       "      <td>reuters  shortsellers wall street dwindle band...</td>\n",
       "      <td>[reuters, shortsellers, wall, street, dwindle,...</td>\n",
       "      <td>reuters shortsellers wall street dwindle band ...</td>\n",
       "    </tr>\n",
       "    <tr>\n",
       "      <th>1</th>\n",
       "      <td>3</td>\n",
       "      <td>Carlyle Looks Toward Commercial Aerospace (Reu...</td>\n",
       "      <td>Reuters - Private investment firm Carlyle Grou...</td>\n",
       "      <td>214</td>\n",
       "      <td>Reuters  Private investment firm Carlyle Group...</td>\n",
       "      <td>reuters  private investment firm carlyle group...</td>\n",
       "      <td>reuters  private investment firm carlyle group...</td>\n",
       "      <td>reuters  private investment firm carlyle group...</td>\n",
       "      <td>[reuters, private, investment, firm, carlyle, ...</td>\n",
       "      <td>reuters private investment firm carlyle group ...</td>\n",
       "    </tr>\n",
       "    <tr>\n",
       "      <th>2</th>\n",
       "      <td>3</td>\n",
       "      <td>Oil and Economy Cloud Stocks' Outlook (Reuters)</td>\n",
       "      <td>Reuters - Soaring crude prices plus worries\\ab...</td>\n",
       "      <td>184</td>\n",
       "      <td>Reuters  Soaring crude prices plus worries abo...</td>\n",
       "      <td>reuters  soaring crude prices plus worries abo...</td>\n",
       "      <td>reuters  soaring crude prices plus worries abo...</td>\n",
       "      <td>reuters  soar crude price plus worry about the...</td>\n",
       "      <td>[reuters, soar, crude, price, plus, worry, abo...</td>\n",
       "      <td>reuters soar crude price plus worry economy ou...</td>\n",
       "    </tr>\n",
       "    <tr>\n",
       "      <th>3</th>\n",
       "      <td>3</td>\n",
       "      <td>Iraq Halts Oil Exports from Main Southern Pipe...</td>\n",
       "      <td>Reuters - Authorities have halted oil export\\f...</td>\n",
       "      <td>195</td>\n",
       "      <td>Reuters  Authorities have halted oil export fl...</td>\n",
       "      <td>reuters  authorities have halted oil export fl...</td>\n",
       "      <td>reuters  authorities have halted oil export fl...</td>\n",
       "      <td>reuters  authorities have halt oil export flow...</td>\n",
       "      <td>[reuters, authorities, have, halt, oil, export...</td>\n",
       "      <td>reuters authorities halt oil export flow main ...</td>\n",
       "    </tr>\n",
       "    <tr>\n",
       "      <th>4</th>\n",
       "      <td>3</td>\n",
       "      <td>Oil prices soar to all-time record, posing new...</td>\n",
       "      <td>AFP - Tearaway world oil prices, toppling reco...</td>\n",
       "      <td>160</td>\n",
       "      <td>AFP  Tearaway world oil prices toppling record...</td>\n",
       "      <td>afp  tearaway world oil prices toppling record...</td>\n",
       "      <td>afp  tearaway world oil prices toppling record...</td>\n",
       "      <td>afp  tearaway world oil price topple record an...</td>\n",
       "      <td>[afp, tearaway, world, oil, price, topple, rec...</td>\n",
       "      <td>afp tearaway world oil price topple record str...</td>\n",
       "    </tr>\n",
       "  </tbody>\n",
       "</table>\n",
       "</div>"
      ],
      "text/plain": [
       "   Class Index                                              Title  \\\n",
       "0            3  Wall St. Bears Claw Back Into the Black (Reuters)   \n",
       "1            3  Carlyle Looks Toward Commercial Aerospace (Reu...   \n",
       "2            3    Oil and Economy Cloud Stocks' Outlook (Reuters)   \n",
       "3            3  Iraq Halts Oil Exports from Main Southern Pipe...   \n",
       "4            3  Oil prices soar to all-time record, posing new...   \n",
       "\n",
       "                                         Description  News_length  \\\n",
       "0  Reuters - Short-sellers, Wall Street's dwindli...           94   \n",
       "1  Reuters - Private investment firm Carlyle Grou...          214   \n",
       "2  Reuters - Soaring crude prices plus worries\\ab...          184   \n",
       "3  Reuters - Authorities have halted oil export\\f...          195   \n",
       "4  AFP - Tearaway world oil prices, toppling reco...          160   \n",
       "\n",
       "                                    Content_Parsed_1  \\\n",
       "0  Reuters  Shortsellers Wall Street's dwindling ...   \n",
       "1  Reuters  Private investment firm Carlyle Group...   \n",
       "2  Reuters  Soaring crude prices plus worries abo...   \n",
       "3  Reuters  Authorities have halted oil export fl...   \n",
       "4  AFP  Tearaway world oil prices toppling record...   \n",
       "\n",
       "                                    Content_Parsed_2  \\\n",
       "0  reuters  shortsellers wall street's dwindling ...   \n",
       "1  reuters  private investment firm carlyle group...   \n",
       "2  reuters  soaring crude prices plus worries abo...   \n",
       "3  reuters  authorities have halted oil export fl...   \n",
       "4  afp  tearaway world oil prices toppling record...   \n",
       "\n",
       "                                    Content_Parsed_3  \\\n",
       "0  reuters  shortsellers wall street dwindling ba...   \n",
       "1  reuters  private investment firm carlyle group...   \n",
       "2  reuters  soaring crude prices plus worries abo...   \n",
       "3  reuters  authorities have halted oil export fl...   \n",
       "4  afp  tearaway world oil prices toppling record...   \n",
       "\n",
       "                                    Content_Parsed_5  \\\n",
       "0  reuters  shortsellers wall street dwindle band...   \n",
       "1  reuters  private investment firm carlyle group...   \n",
       "2  reuters  soar crude price plus worry about the...   \n",
       "3  reuters  authorities have halt oil export flow...   \n",
       "4  afp  tearaway world oil price topple record an...   \n",
       "\n",
       "                                 Tokenized_sentences  \\\n",
       "0  [reuters, shortsellers, wall, street, dwindle,...   \n",
       "1  [reuters, private, investment, firm, carlyle, ...   \n",
       "2  [reuters, soar, crude, price, plus, worry, abo...   \n",
       "3  [reuters, authorities, have, halt, oil, export...   \n",
       "4  [afp, tearaway, world, oil, price, topple, rec...   \n",
       "\n",
       "                              desc_without_stopwords  \n",
       "0  reuters shortsellers wall street dwindle band ...  \n",
       "1  reuters private investment firm carlyle group ...  \n",
       "2  reuters soar crude price plus worry economy ou...  \n",
       "3  reuters authorities halt oil export flow main ...  \n",
       "4  afp tearaway world oil price topple record str...  "
      ]
     },
     "execution_count": 62,
     "metadata": {},
     "output_type": "execute_result"
    }
   ],
   "source": [
    "train.head()"
   ]
  },
  {
   "cell_type": "code",
   "execution_count": 63,
   "metadata": {},
   "outputs": [
    {
     "data": {
      "text/html": [
       "<div>\n",
       "<style scoped>\n",
       "    .dataframe tbody tr th:only-of-type {\n",
       "        vertical-align: middle;\n",
       "    }\n",
       "\n",
       "    .dataframe tbody tr th {\n",
       "        vertical-align: top;\n",
       "    }\n",
       "\n",
       "    .dataframe thead th {\n",
       "        text-align: right;\n",
       "    }\n",
       "</style>\n",
       "<table border=\"1\" class=\"dataframe\">\n",
       "  <thead>\n",
       "    <tr style=\"text-align: right;\">\n",
       "      <th></th>\n",
       "      <th>Class Index</th>\n",
       "      <th>Title</th>\n",
       "      <th>Description</th>\n",
       "      <th>News_length</th>\n",
       "      <th>Content_Parsed_1</th>\n",
       "      <th>Content_Parsed_2</th>\n",
       "      <th>Content_Parsed_3</th>\n",
       "      <th>Content_Parsed_5</th>\n",
       "      <th>Tokenized_sentences</th>\n",
       "      <th>desc_without_stopwords</th>\n",
       "    </tr>\n",
       "  </thead>\n",
       "  <tbody>\n",
       "    <tr>\n",
       "      <th>0</th>\n",
       "      <td>3</td>\n",
       "      <td>Fears for T N pension after talks</td>\n",
       "      <td>Unions representing workers at Turner   Newall...</td>\n",
       "      <td>127</td>\n",
       "      <td>Unions representing workers at Turner   Newall...</td>\n",
       "      <td>unions representing workers at turner   newall...</td>\n",
       "      <td>unions representing workers at turner   newall...</td>\n",
       "      <td>unions represent workers at turner   newall sa...</td>\n",
       "      <td>[unions, represent, workers, at, turner, newal...</td>\n",
       "      <td>unions represent workers turner newall say 'di...</td>\n",
       "    </tr>\n",
       "    <tr>\n",
       "      <th>1</th>\n",
       "      <td>4</td>\n",
       "      <td>The Race is On: Second Private Team Sets Launc...</td>\n",
       "      <td>SPACE.com - TORONTO, Canada -- A second\\team o...</td>\n",
       "      <td>234</td>\n",
       "      <td>SPACEcom  TORONTO Canada  A second team of roc...</td>\n",
       "      <td>spacecom  toronto canada  a second team of roc...</td>\n",
       "      <td>spacecom  toronto canada  a second team of roc...</td>\n",
       "      <td>spacecom  toronto canada  a second team of roc...</td>\n",
       "      <td>[spacecom, toronto, canada, a, second, team, o...</td>\n",
       "      <td>spacecom toronto canada second team rocketeers...</td>\n",
       "    </tr>\n",
       "    <tr>\n",
       "      <th>2</th>\n",
       "      <td>4</td>\n",
       "      <td>Ky. Company Wins Grant to Study Peptides (AP)</td>\n",
       "      <td>AP - A company founded by a chemistry research...</td>\n",
       "      <td>214</td>\n",
       "      <td>AP  A company founded by a chemistry researche...</td>\n",
       "      <td>ap  a company founded by a chemistry researche...</td>\n",
       "      <td>ap  a company founded by a chemistry researche...</td>\n",
       "      <td>ap  a company found by a chemistry researcher ...</td>\n",
       "      <td>[ap, a, company, found, by, a, chemistry, rese...</td>\n",
       "      <td>ap company found chemistry researcher universi...</td>\n",
       "    </tr>\n",
       "    <tr>\n",
       "      <th>3</th>\n",
       "      <td>4</td>\n",
       "      <td>Prediction Unit Helps Forecast Wildfires (AP)</td>\n",
       "      <td>AP - It's barely dawn when Mike Fitzpatrick st...</td>\n",
       "      <td>272</td>\n",
       "      <td>AP  It's barely dawn when Mike Fitzpatrick sta...</td>\n",
       "      <td>ap  it's barely dawn when mike fitzpatrick sta...</td>\n",
       "      <td>ap  it barely dawn when mike fitzpatrick start...</td>\n",
       "      <td>ap  it barely dawn when mike fitzpatrick start...</td>\n",
       "      <td>[ap, it, barely, dawn, when, mike, fitzpatrick...</td>\n",
       "      <td>ap barely dawn mike fitzpatrick start shift bl...</td>\n",
       "    </tr>\n",
       "    <tr>\n",
       "      <th>4</th>\n",
       "      <td>4</td>\n",
       "      <td>Calif. Aims to Limit Farm-Related Smog (AP)</td>\n",
       "      <td>AP - Southern California's smog-fighting agenc...</td>\n",
       "      <td>179</td>\n",
       "      <td>AP  Southern California's smogfighting agency ...</td>\n",
       "      <td>ap  southern california's smogfighting agency ...</td>\n",
       "      <td>ap  southern california smogfighting agency we...</td>\n",
       "      <td>ap  southern california smogfighting agency go...</td>\n",
       "      <td>[ap, southern, california, smogfighting, agenc...</td>\n",
       "      <td>ap southern california smogfighting agency go ...</td>\n",
       "    </tr>\n",
       "  </tbody>\n",
       "</table>\n",
       "</div>"
      ],
      "text/plain": [
       "   Class Index                                              Title  \\\n",
       "0            3                  Fears for T N pension after talks   \n",
       "1            4  The Race is On: Second Private Team Sets Launc...   \n",
       "2            4      Ky. Company Wins Grant to Study Peptides (AP)   \n",
       "3            4      Prediction Unit Helps Forecast Wildfires (AP)   \n",
       "4            4        Calif. Aims to Limit Farm-Related Smog (AP)   \n",
       "\n",
       "                                         Description  News_length  \\\n",
       "0  Unions representing workers at Turner   Newall...          127   \n",
       "1  SPACE.com - TORONTO, Canada -- A second\\team o...          234   \n",
       "2  AP - A company founded by a chemistry research...          214   \n",
       "3  AP - It's barely dawn when Mike Fitzpatrick st...          272   \n",
       "4  AP - Southern California's smog-fighting agenc...          179   \n",
       "\n",
       "                                    Content_Parsed_1  \\\n",
       "0  Unions representing workers at Turner   Newall...   \n",
       "1  SPACEcom  TORONTO Canada  A second team of roc...   \n",
       "2  AP  A company founded by a chemistry researche...   \n",
       "3  AP  It's barely dawn when Mike Fitzpatrick sta...   \n",
       "4  AP  Southern California's smogfighting agency ...   \n",
       "\n",
       "                                    Content_Parsed_2  \\\n",
       "0  unions representing workers at turner   newall...   \n",
       "1  spacecom  toronto canada  a second team of roc...   \n",
       "2  ap  a company founded by a chemistry researche...   \n",
       "3  ap  it's barely dawn when mike fitzpatrick sta...   \n",
       "4  ap  southern california's smogfighting agency ...   \n",
       "\n",
       "                                    Content_Parsed_3  \\\n",
       "0  unions representing workers at turner   newall...   \n",
       "1  spacecom  toronto canada  a second team of roc...   \n",
       "2  ap  a company founded by a chemistry researche...   \n",
       "3  ap  it barely dawn when mike fitzpatrick start...   \n",
       "4  ap  southern california smogfighting agency we...   \n",
       "\n",
       "                                    Content_Parsed_5  \\\n",
       "0  unions represent workers at turner   newall sa...   \n",
       "1  spacecom  toronto canada  a second team of roc...   \n",
       "2  ap  a company found by a chemistry researcher ...   \n",
       "3  ap  it barely dawn when mike fitzpatrick start...   \n",
       "4  ap  southern california smogfighting agency go...   \n",
       "\n",
       "                                 Tokenized_sentences  \\\n",
       "0  [unions, represent, workers, at, turner, newal...   \n",
       "1  [spacecom, toronto, canada, a, second, team, o...   \n",
       "2  [ap, a, company, found, by, a, chemistry, rese...   \n",
       "3  [ap, it, barely, dawn, when, mike, fitzpatrick...   \n",
       "4  [ap, southern, california, smogfighting, agenc...   \n",
       "\n",
       "                              desc_without_stopwords  \n",
       "0  unions represent workers turner newall say 'di...  \n",
       "1  spacecom toronto canada second team rocketeers...  \n",
       "2  ap company found chemistry researcher universi...  \n",
       "3  ap barely dawn mike fitzpatrick start shift bl...  \n",
       "4  ap southern california smogfighting agency go ...  "
      ]
     },
     "execution_count": 63,
     "metadata": {},
     "output_type": "execute_result"
    }
   ],
   "source": [
    "test.head()"
   ]
  },
  {
   "cell_type": "markdown",
   "metadata": {},
   "source": [
    "## Creating a new dataset\n",
    "A dataset that has as it's final cloumn the processed data"
   ]
  },
  {
   "cell_type": "code",
   "execution_count": 64,
   "metadata": {},
   "outputs": [],
   "source": [
    "list_columns = [\"Class Index\", \"Title\", \"Description\", \"desc_without_stopwords\"]\n",
    "train = train[list_columns]\n",
    "\n",
    "train = train.rename(columns={'desc_without_stopwords': 'Content_Parsed'})"
   ]
  },
  {
   "cell_type": "code",
   "execution_count": 65,
   "metadata": {},
   "outputs": [],
   "source": [
    "list_columns = [\"Class Index\", \"Title\", \"Description\", \"desc_without_stopwords\"]\n",
    "test = test[list_columns]\n",
    "\n",
    "test = test.rename(columns={'desc_without_stopwords': 'Content_Parsed'})"
   ]
  },
  {
   "cell_type": "code",
   "execution_count": 66,
   "metadata": {},
   "outputs": [
    {
     "data": {
      "text/html": [
       "<div>\n",
       "<style scoped>\n",
       "    .dataframe tbody tr th:only-of-type {\n",
       "        vertical-align: middle;\n",
       "    }\n",
       "\n",
       "    .dataframe tbody tr th {\n",
       "        vertical-align: top;\n",
       "    }\n",
       "\n",
       "    .dataframe thead th {\n",
       "        text-align: right;\n",
       "    }\n",
       "</style>\n",
       "<table border=\"1\" class=\"dataframe\">\n",
       "  <thead>\n",
       "    <tr style=\"text-align: right;\">\n",
       "      <th></th>\n",
       "      <th>Class Index</th>\n",
       "      <th>Title</th>\n",
       "      <th>Description</th>\n",
       "      <th>Content_Parsed</th>\n",
       "    </tr>\n",
       "  </thead>\n",
       "  <tbody>\n",
       "    <tr>\n",
       "      <th>0</th>\n",
       "      <td>3</td>\n",
       "      <td>Wall St. Bears Claw Back Into the Black (Reuters)</td>\n",
       "      <td>Reuters - Short-sellers, Wall Street's dwindli...</td>\n",
       "      <td>reuters shortsellers wall street dwindle band ...</td>\n",
       "    </tr>\n",
       "    <tr>\n",
       "      <th>1</th>\n",
       "      <td>3</td>\n",
       "      <td>Carlyle Looks Toward Commercial Aerospace (Reu...</td>\n",
       "      <td>Reuters - Private investment firm Carlyle Grou...</td>\n",
       "      <td>reuters private investment firm carlyle group ...</td>\n",
       "    </tr>\n",
       "    <tr>\n",
       "      <th>2</th>\n",
       "      <td>3</td>\n",
       "      <td>Oil and Economy Cloud Stocks' Outlook (Reuters)</td>\n",
       "      <td>Reuters - Soaring crude prices plus worries\\ab...</td>\n",
       "      <td>reuters soar crude price plus worry economy ou...</td>\n",
       "    </tr>\n",
       "    <tr>\n",
       "      <th>3</th>\n",
       "      <td>3</td>\n",
       "      <td>Iraq Halts Oil Exports from Main Southern Pipe...</td>\n",
       "      <td>Reuters - Authorities have halted oil export\\f...</td>\n",
       "      <td>reuters authorities halt oil export flow main ...</td>\n",
       "    </tr>\n",
       "    <tr>\n",
       "      <th>4</th>\n",
       "      <td>3</td>\n",
       "      <td>Oil prices soar to all-time record, posing new...</td>\n",
       "      <td>AFP - Tearaway world oil prices, toppling reco...</td>\n",
       "      <td>afp tearaway world oil price topple record str...</td>\n",
       "    </tr>\n",
       "  </tbody>\n",
       "</table>\n",
       "</div>"
      ],
      "text/plain": [
       "   Class Index                                              Title  \\\n",
       "0            3  Wall St. Bears Claw Back Into the Black (Reuters)   \n",
       "1            3  Carlyle Looks Toward Commercial Aerospace (Reu...   \n",
       "2            3    Oil and Economy Cloud Stocks' Outlook (Reuters)   \n",
       "3            3  Iraq Halts Oil Exports from Main Southern Pipe...   \n",
       "4            3  Oil prices soar to all-time record, posing new...   \n",
       "\n",
       "                                         Description  \\\n",
       "0  Reuters - Short-sellers, Wall Street's dwindli...   \n",
       "1  Reuters - Private investment firm Carlyle Grou...   \n",
       "2  Reuters - Soaring crude prices plus worries\\ab...   \n",
       "3  Reuters - Authorities have halted oil export\\f...   \n",
       "4  AFP - Tearaway world oil prices, toppling reco...   \n",
       "\n",
       "                                      Content_Parsed  \n",
       "0  reuters shortsellers wall street dwindle band ...  \n",
       "1  reuters private investment firm carlyle group ...  \n",
       "2  reuters soar crude price plus worry economy ou...  \n",
       "3  reuters authorities halt oil export flow main ...  \n",
       "4  afp tearaway world oil price topple record str...  "
      ]
     },
     "execution_count": 66,
     "metadata": {},
     "output_type": "execute_result"
    }
   ],
   "source": [
    "train.head()"
   ]
  },
  {
   "cell_type": "code",
   "execution_count": 67,
   "metadata": {},
   "outputs": [
    {
     "data": {
      "text/html": [
       "<div>\n",
       "<style scoped>\n",
       "    .dataframe tbody tr th:only-of-type {\n",
       "        vertical-align: middle;\n",
       "    }\n",
       "\n",
       "    .dataframe tbody tr th {\n",
       "        vertical-align: top;\n",
       "    }\n",
       "\n",
       "    .dataframe thead th {\n",
       "        text-align: right;\n",
       "    }\n",
       "</style>\n",
       "<table border=\"1\" class=\"dataframe\">\n",
       "  <thead>\n",
       "    <tr style=\"text-align: right;\">\n",
       "      <th></th>\n",
       "      <th>Class Index</th>\n",
       "      <th>Title</th>\n",
       "      <th>Description</th>\n",
       "      <th>Content_Parsed</th>\n",
       "    </tr>\n",
       "  </thead>\n",
       "  <tbody>\n",
       "    <tr>\n",
       "      <th>0</th>\n",
       "      <td>3</td>\n",
       "      <td>Fears for T N pension after talks</td>\n",
       "      <td>Unions representing workers at Turner   Newall...</td>\n",
       "      <td>unions represent workers turner newall say 'di...</td>\n",
       "    </tr>\n",
       "    <tr>\n",
       "      <th>1</th>\n",
       "      <td>4</td>\n",
       "      <td>The Race is On: Second Private Team Sets Launc...</td>\n",
       "      <td>SPACE.com - TORONTO, Canada -- A second\\team o...</td>\n",
       "      <td>spacecom toronto canada second team rocketeers...</td>\n",
       "    </tr>\n",
       "    <tr>\n",
       "      <th>2</th>\n",
       "      <td>4</td>\n",
       "      <td>Ky. Company Wins Grant to Study Peptides (AP)</td>\n",
       "      <td>AP - A company founded by a chemistry research...</td>\n",
       "      <td>ap company found chemistry researcher universi...</td>\n",
       "    </tr>\n",
       "    <tr>\n",
       "      <th>3</th>\n",
       "      <td>4</td>\n",
       "      <td>Prediction Unit Helps Forecast Wildfires (AP)</td>\n",
       "      <td>AP - It's barely dawn when Mike Fitzpatrick st...</td>\n",
       "      <td>ap barely dawn mike fitzpatrick start shift bl...</td>\n",
       "    </tr>\n",
       "    <tr>\n",
       "      <th>4</th>\n",
       "      <td>4</td>\n",
       "      <td>Calif. Aims to Limit Farm-Related Smog (AP)</td>\n",
       "      <td>AP - Southern California's smog-fighting agenc...</td>\n",
       "      <td>ap southern california smogfighting agency go ...</td>\n",
       "    </tr>\n",
       "  </tbody>\n",
       "</table>\n",
       "</div>"
      ],
      "text/plain": [
       "   Class Index                                              Title  \\\n",
       "0            3                  Fears for T N pension after talks   \n",
       "1            4  The Race is On: Second Private Team Sets Launc...   \n",
       "2            4      Ky. Company Wins Grant to Study Peptides (AP)   \n",
       "3            4      Prediction Unit Helps Forecast Wildfires (AP)   \n",
       "4            4        Calif. Aims to Limit Farm-Related Smog (AP)   \n",
       "\n",
       "                                         Description  \\\n",
       "0  Unions representing workers at Turner   Newall...   \n",
       "1  SPACE.com - TORONTO, Canada -- A second\\team o...   \n",
       "2  AP - A company founded by a chemistry research...   \n",
       "3  AP - It's barely dawn when Mike Fitzpatrick st...   \n",
       "4  AP - Southern California's smog-fighting agenc...   \n",
       "\n",
       "                                      Content_Parsed  \n",
       "0  unions represent workers turner newall say 'di...  \n",
       "1  spacecom toronto canada second team rocketeers...  \n",
       "2  ap company found chemistry researcher universi...  \n",
       "3  ap barely dawn mike fitzpatrick start shift bl...  \n",
       "4  ap southern california smogfighting agency go ...  "
      ]
     },
     "execution_count": 67,
     "metadata": {},
     "output_type": "execute_result"
    }
   ],
   "source": [
    "test.head()"
   ]
  },
  {
   "cell_type": "markdown",
   "metadata": {},
   "source": [
    "# Export this new dataset for the process of modelling"
   ]
  },
  {
   "cell_type": "code",
   "execution_count": 81,
   "metadata": {},
   "outputs": [],
   "source": [
    "with open('Modelling_dataset_train.pickle', 'wb') as output:\n",
    "    pickle.dump(train, output)\n",
    "with open('Modelling_dataset_test.pickle', 'wb') as output:\n",
    "    pickle.dump(test, output)    "
   ]
  },
  {
   "cell_type": "code",
   "execution_count": null,
   "metadata": {},
   "outputs": [],
   "source": []
  },
  {
   "cell_type": "code",
   "execution_count": null,
   "metadata": {},
   "outputs": [],
   "source": []
  },
  {
   "cell_type": "code",
   "execution_count": null,
   "metadata": {},
   "outputs": [],
   "source": []
  },
  {
   "cell_type": "code",
   "execution_count": null,
   "metadata": {},
   "outputs": [],
   "source": []
  },
  {
   "cell_type": "code",
   "execution_count": null,
   "metadata": {},
   "outputs": [],
   "source": []
  },
  {
   "cell_type": "code",
   "execution_count": null,
   "metadata": {},
   "outputs": [],
   "source": []
  },
  {
   "cell_type": "code",
   "execution_count": null,
   "metadata": {},
   "outputs": [],
   "source": []
  },
  {
   "cell_type": "code",
   "execution_count": null,
   "metadata": {},
   "outputs": [],
   "source": []
  },
  {
   "cell_type": "code",
   "execution_count": null,
   "metadata": {},
   "outputs": [],
   "source": []
  },
  {
   "cell_type": "code",
   "execution_count": null,
   "metadata": {},
   "outputs": [],
   "source": []
  },
  {
   "cell_type": "code",
   "execution_count": null,
   "metadata": {},
   "outputs": [],
   "source": []
  }
 ],
 "metadata": {
  "kernelspec": {
   "display_name": "Python 3",
   "language": "python",
   "name": "python3"
  },
  "language_info": {
   "codemirror_mode": {
    "name": "ipython",
    "version": 3
   },
   "file_extension": ".py",
   "mimetype": "text/x-python",
   "name": "python",
   "nbconvert_exporter": "python",
   "pygments_lexer": "ipython3",
   "version": "3.8.5"
  }
 },
 "nbformat": 4,
 "nbformat_minor": 4
}
